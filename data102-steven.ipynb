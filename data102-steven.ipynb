{
 "cells": [
  {
   "cell_type": "markdown",
   "metadata": {},
   "source": [
    "# Data C102 Fall 2021 Final Project - Steven\n",
    "My contributions to the final project."
   ]
  },
  {
   "cell_type": "code",
   "execution_count": 4,
   "metadata": {},
   "outputs": [],
   "source": [
    "import numpy as np\n",
    "import pandas as pd\n",
    "import matplotlib.pyplot as plt\n",
    "import seaborn as sns\n",
    "import statsmodels.api as sm\n",
    "\n",
    "sns.set_style(style='darkgrid')\n",
    "plt.style.use('ggplot')\n",
    "%matplotlib inline"
   ]
  },
  {
   "cell_type": "markdown",
   "metadata": {},
   "source": [
    "## Data cleaning\n",
    "Code ~stolen~ adapted from the main project notebook"
   ]
  },
  {
   "cell_type": "code",
   "execution_count": 5,
   "metadata": {},
   "outputs": [],
   "source": [
    "# Load data into DataFrames\n",
    "asthma = pd.read_csv('data/asthma.csv')\n",
    "pm25 = pd.read_csv('data/pm25.csv')\n",
    "states = pd.read_csv('data/states.csv')\n",
    "fips = pd.read_csv('https://gist.githubusercontent.com/dantonnoriega/bf1acd2290e15b91e6710b6fd3be0a53/raw/11d15233327c8080c9646c7e1f23052659db251d/us-state-ansi-fips.csv')\n",
    "state_pops = pd.read_csv('data/nst-est2019-alldata.csv')"
   ]
  },
  {
   "cell_type": "markdown",
   "metadata": {},
   "source": [
    "*For hypothesis testing*:"
   ]
  },
  {
   "cell_type": "code",
   "execution_count": 11,
   "metadata": {
    "jupyter": {
     "outputs_hidden": true
    }
   },
   "outputs": [
    {
     "data": {
      "text/html": [
       "<div>\n",
       "<style scoped>\n",
       "    .dataframe tbody tr th:only-of-type {\n",
       "        vertical-align: middle;\n",
       "    }\n",
       "\n",
       "    .dataframe tbody tr th {\n",
       "        vertical-align: top;\n",
       "    }\n",
       "\n",
       "    .dataframe thead th {\n",
       "        text-align: right;\n",
       "    }\n",
       "</style>\n",
       "<table border=\"1\" class=\"dataframe\">\n",
       "  <thead>\n",
       "    <tr style=\"text-align: right;\">\n",
       "      <th></th>\n",
       "      <th>YearStart</th>\n",
       "      <th>YearEnd</th>\n",
       "      <th>LocationAbbr</th>\n",
       "      <th>LocationDesc</th>\n",
       "      <th>DataSource</th>\n",
       "      <th>Topic</th>\n",
       "      <th>Question</th>\n",
       "      <th>Response</th>\n",
       "      <th>DataValueUnit</th>\n",
       "      <th>DataValueType</th>\n",
       "      <th>...</th>\n",
       "      <th>QuestionID</th>\n",
       "      <th>DataValueTypeID</th>\n",
       "      <th>StratificationCategoryID1</th>\n",
       "      <th>StratificationID1</th>\n",
       "      <th>StratificationCategoryID2</th>\n",
       "      <th>StratificationID2</th>\n",
       "      <th>StratificationCategoryID3</th>\n",
       "      <th>StratificationID3</th>\n",
       "      <th>Region</th>\n",
       "      <th>Division</th>\n",
       "    </tr>\n",
       "  </thead>\n",
       "  <tbody>\n",
       "    <tr>\n",
       "      <th>0</th>\n",
       "      <td>2012</td>\n",
       "      <td>2012</td>\n",
       "      <td>AL</td>\n",
       "      <td>Alabama</td>\n",
       "      <td>NVSS</td>\n",
       "      <td>Asthma</td>\n",
       "      <td>Asthma mortality rate</td>\n",
       "      <td>NaN</td>\n",
       "      <td>NaN</td>\n",
       "      <td>Number</td>\n",
       "      <td>...</td>\n",
       "      <td>AST4_1</td>\n",
       "      <td>NMBR</td>\n",
       "      <td>GENDER</td>\n",
       "      <td>GENF</td>\n",
       "      <td>NaN</td>\n",
       "      <td>NaN</td>\n",
       "      <td>NaN</td>\n",
       "      <td>NaN</td>\n",
       "      <td>South</td>\n",
       "      <td>East South Central</td>\n",
       "    </tr>\n",
       "    <tr>\n",
       "      <th>1</th>\n",
       "      <td>2014</td>\n",
       "      <td>2014</td>\n",
       "      <td>AL</td>\n",
       "      <td>Alabama</td>\n",
       "      <td>NVSS</td>\n",
       "      <td>Asthma</td>\n",
       "      <td>Asthma mortality rate</td>\n",
       "      <td>NaN</td>\n",
       "      <td>NaN</td>\n",
       "      <td>Number</td>\n",
       "      <td>...</td>\n",
       "      <td>AST4_1</td>\n",
       "      <td>NMBR</td>\n",
       "      <td>GENDER</td>\n",
       "      <td>GENM</td>\n",
       "      <td>NaN</td>\n",
       "      <td>NaN</td>\n",
       "      <td>NaN</td>\n",
       "      <td>NaN</td>\n",
       "      <td>South</td>\n",
       "      <td>East South Central</td>\n",
       "    </tr>\n",
       "    <tr>\n",
       "      <th>2</th>\n",
       "      <td>2015</td>\n",
       "      <td>2015</td>\n",
       "      <td>AL</td>\n",
       "      <td>Alabama</td>\n",
       "      <td>NVSS</td>\n",
       "      <td>Asthma</td>\n",
       "      <td>Asthma mortality rate</td>\n",
       "      <td>NaN</td>\n",
       "      <td>NaN</td>\n",
       "      <td>Number</td>\n",
       "      <td>...</td>\n",
       "      <td>AST4_1</td>\n",
       "      <td>NMBR</td>\n",
       "      <td>RACE</td>\n",
       "      <td>WHT</td>\n",
       "      <td>NaN</td>\n",
       "      <td>NaN</td>\n",
       "      <td>NaN</td>\n",
       "      <td>NaN</td>\n",
       "      <td>South</td>\n",
       "      <td>East South Central</td>\n",
       "    </tr>\n",
       "    <tr>\n",
       "      <th>3</th>\n",
       "      <td>2013</td>\n",
       "      <td>2013</td>\n",
       "      <td>AL</td>\n",
       "      <td>Alabama</td>\n",
       "      <td>NVSS</td>\n",
       "      <td>Asthma</td>\n",
       "      <td>Asthma mortality rate</td>\n",
       "      <td>NaN</td>\n",
       "      <td>cases per 1,000,000</td>\n",
       "      <td>Crude Rate</td>\n",
       "      <td>...</td>\n",
       "      <td>AST4_1</td>\n",
       "      <td>CRDRATE</td>\n",
       "      <td>OVERALL</td>\n",
       "      <td>OVR</td>\n",
       "      <td>NaN</td>\n",
       "      <td>NaN</td>\n",
       "      <td>NaN</td>\n",
       "      <td>NaN</td>\n",
       "      <td>South</td>\n",
       "      <td>East South Central</td>\n",
       "    </tr>\n",
       "    <tr>\n",
       "      <th>4</th>\n",
       "      <td>2016</td>\n",
       "      <td>2016</td>\n",
       "      <td>AL</td>\n",
       "      <td>Alabama</td>\n",
       "      <td>NVSS</td>\n",
       "      <td>Asthma</td>\n",
       "      <td>Asthma mortality rate</td>\n",
       "      <td>NaN</td>\n",
       "      <td>cases per 1,000,000</td>\n",
       "      <td>Age-adjusted Rate</td>\n",
       "      <td>...</td>\n",
       "      <td>AST4_1</td>\n",
       "      <td>AGEADJRATE</td>\n",
       "      <td>RACE</td>\n",
       "      <td>WHT</td>\n",
       "      <td>NaN</td>\n",
       "      <td>NaN</td>\n",
       "      <td>NaN</td>\n",
       "      <td>NaN</td>\n",
       "      <td>South</td>\n",
       "      <td>East South Central</td>\n",
       "    </tr>\n",
       "  </tbody>\n",
       "</table>\n",
       "<p>5 rows × 35 columns</p>\n",
       "</div>"
      ],
      "text/plain": [
       "   YearStart  YearEnd LocationAbbr LocationDesc DataSource   Topic  \\\n",
       "0       2012     2012           AL      Alabama       NVSS  Asthma   \n",
       "1       2014     2014           AL      Alabama       NVSS  Asthma   \n",
       "2       2015     2015           AL      Alabama       NVSS  Asthma   \n",
       "3       2013     2013           AL      Alabama       NVSS  Asthma   \n",
       "4       2016     2016           AL      Alabama       NVSS  Asthma   \n",
       "\n",
       "                Question  Response        DataValueUnit      DataValueType  \\\n",
       "0  Asthma mortality rate       NaN                  NaN             Number   \n",
       "1  Asthma mortality rate       NaN                  NaN             Number   \n",
       "2  Asthma mortality rate       NaN                  NaN             Number   \n",
       "3  Asthma mortality rate       NaN  cases per 1,000,000         Crude Rate   \n",
       "4  Asthma mortality rate       NaN  cases per 1,000,000  Age-adjusted Rate   \n",
       "\n",
       "   ...  QuestionID  DataValueTypeID StratificationCategoryID1  \\\n",
       "0  ...      AST4_1             NMBR                    GENDER   \n",
       "1  ...      AST4_1             NMBR                    GENDER   \n",
       "2  ...      AST4_1             NMBR                      RACE   \n",
       "3  ...      AST4_1          CRDRATE                   OVERALL   \n",
       "4  ...      AST4_1       AGEADJRATE                      RACE   \n",
       "\n",
       "  StratificationID1  StratificationCategoryID2  StratificationID2  \\\n",
       "0              GENF                        NaN                NaN   \n",
       "1              GENM                        NaN                NaN   \n",
       "2               WHT                        NaN                NaN   \n",
       "3               OVR                        NaN                NaN   \n",
       "4               WHT                        NaN                NaN   \n",
       "\n",
       "  StratificationCategoryID3 StratificationID3  Region            Division  \n",
       "0                       NaN               NaN   South  East South Central  \n",
       "1                       NaN               NaN   South  East South Central  \n",
       "2                       NaN               NaN   South  East South Central  \n",
       "3                       NaN               NaN   South  East South Central  \n",
       "4                       NaN               NaN   South  East South Central  \n",
       "\n",
       "[5 rows x 35 columns]"
      ]
     },
     "execution_count": 11,
     "metadata": {},
     "output_type": "execute_result"
    }
   ],
   "source": [
    "# Add divisions to the asthma data\n",
    "asthma_states = asthma.merge(states, left_on='LocationAbbr', right_on='State Code').drop(columns=['State', 'State Code'])\n",
    "asthma_states.head()"
   ]
  },
  {
   "cell_type": "code",
   "execution_count": 12,
   "metadata": {
    "jupyter": {
     "outputs_hidden": true
    }
   },
   "outputs": [
    {
     "data": {
      "text/html": [
       "<div>\n",
       "<style scoped>\n",
       "    .dataframe tbody tr th:only-of-type {\n",
       "        vertical-align: middle;\n",
       "    }\n",
       "\n",
       "    .dataframe tbody tr th {\n",
       "        vertical-align: top;\n",
       "    }\n",
       "\n",
       "    .dataframe thead th {\n",
       "        text-align: right;\n",
       "    }\n",
       "</style>\n",
       "<table border=\"1\" class=\"dataframe\">\n",
       "  <thead>\n",
       "    <tr style=\"text-align: right;\">\n",
       "      <th></th>\n",
       "      <th>year</th>\n",
       "      <th>state</th>\n",
       "      <th>stname</th>\n",
       "      <th>div</th>\n",
       "      <th>aap</th>\n",
       "    </tr>\n",
       "  </thead>\n",
       "  <tbody>\n",
       "    <tr>\n",
       "      <th>0</th>\n",
       "      <td>2019</td>\n",
       "      <td>AL</td>\n",
       "      <td>Alabama</td>\n",
       "      <td>East South Central</td>\n",
       "      <td>9.4</td>\n",
       "    </tr>\n",
       "    <tr>\n",
       "      <th>1</th>\n",
       "      <td>2015</td>\n",
       "      <td>AL</td>\n",
       "      <td>Alabama</td>\n",
       "      <td>East South Central</td>\n",
       "      <td>9.9</td>\n",
       "    </tr>\n",
       "    <tr>\n",
       "      <th>2</th>\n",
       "      <td>2017</td>\n",
       "      <td>AL</td>\n",
       "      <td>Alabama</td>\n",
       "      <td>East South Central</td>\n",
       "      <td>10.9</td>\n",
       "    </tr>\n",
       "    <tr>\n",
       "      <th>3</th>\n",
       "      <td>2013</td>\n",
       "      <td>AL</td>\n",
       "      <td>Alabama</td>\n",
       "      <td>East South Central</td>\n",
       "      <td>8.5</td>\n",
       "    </tr>\n",
       "    <tr>\n",
       "      <th>4</th>\n",
       "      <td>2011</td>\n",
       "      <td>AL</td>\n",
       "      <td>Alabama</td>\n",
       "      <td>East South Central</td>\n",
       "      <td>8.0</td>\n",
       "    </tr>\n",
       "  </tbody>\n",
       "</table>\n",
       "</div>"
      ],
      "text/plain": [
       "   year state   stname                 div   aap\n",
       "0  2019    AL  Alabama  East South Central   9.4\n",
       "1  2015    AL  Alabama  East South Central   9.9\n",
       "2  2017    AL  Alabama  East South Central  10.9\n",
       "3  2013    AL  Alabama  East South Central   8.5\n",
       "4  2011    AL  Alabama  East South Central   8.0"
      ]
     },
     "execution_count": 12,
     "metadata": {},
     "output_type": "execute_result"
    }
   ],
   "source": [
    "# Query for overall age-adjusted prevalence\n",
    "asthma_aap = asthma_states.query(\n",
    "        'Question == \"Current asthma prevalence among adults aged >= 18 years\"' + \n",
    "        '& StratificationCategory1 == \"Overall\"' +\n",
    "        '& DataValueType == \"Age-adjusted Prevalence\"' # Asthma prevalence is expressed as a percentage of the overall population\n",
    "    )[['YearStart', 'LocationAbbr', 'LocationDesc', 'Division', 'DataValue']].rename(\n",
    "        columns={'YearStart': 'year',\n",
    "                 'LocationAbbr': 'state',\n",
    "                 'LocationDesc': 'stname',\n",
    "                 'Division': 'div',\n",
    "                 'DataValue': 'aap'}\n",
    "    ).reset_index().drop(columns='index')\n",
    "asthma_aap.head()"
   ]
  },
  {
   "cell_type": "code",
   "execution_count": 13,
   "metadata": {
    "jupyter": {
     "outputs_hidden": true
    }
   },
   "outputs": [
    {
     "name": "stderr",
     "output_type": "stream",
     "text": [
      "/tmp/ipykernel_77/4204064516.py:2: FutureWarning: Dropping of nuisance columns in DataFrame reductions (with 'numeric_only=None') is deprecated; in a future version this will raise TypeError.  Select only valid columns before calling the reduction.\n",
      "  NJ_aap_mean = round(asthma_aap.query('state == \"NJ\"').mean()['aap'], 1)\n"
     ]
    },
    {
     "data": {
      "text/html": [
       "<div>\n",
       "<style scoped>\n",
       "    .dataframe tbody tr th:only-of-type {\n",
       "        vertical-align: middle;\n",
       "    }\n",
       "\n",
       "    .dataframe tbody tr th {\n",
       "        vertical-align: top;\n",
       "    }\n",
       "\n",
       "    .dataframe thead th {\n",
       "        text-align: right;\n",
       "    }\n",
       "</style>\n",
       "<table border=\"1\" class=\"dataframe\">\n",
       "  <thead>\n",
       "    <tr style=\"text-align: right;\">\n",
       "      <th></th>\n",
       "      <th>year</th>\n",
       "      <th>state</th>\n",
       "      <th>stname</th>\n",
       "      <th>div</th>\n",
       "      <th>aap</th>\n",
       "    </tr>\n",
       "  </thead>\n",
       "  <tbody>\n",
       "    <tr>\n",
       "      <th>351</th>\n",
       "      <td>2011</td>\n",
       "      <td>NJ</td>\n",
       "      <td>New Jersey</td>\n",
       "      <td>Middle Atlantic</td>\n",
       "      <td>9.0</td>\n",
       "    </tr>\n",
       "    <tr>\n",
       "      <th>352</th>\n",
       "      <td>2012</td>\n",
       "      <td>NJ</td>\n",
       "      <td>New Jersey</td>\n",
       "      <td>Middle Atlantic</td>\n",
       "      <td>8.8</td>\n",
       "    </tr>\n",
       "    <tr>\n",
       "      <th>353</th>\n",
       "      <td>2014</td>\n",
       "      <td>NJ</td>\n",
       "      <td>New Jersey</td>\n",
       "      <td>Middle Atlantic</td>\n",
       "      <td>8.3</td>\n",
       "    </tr>\n",
       "    <tr>\n",
       "      <th>354</th>\n",
       "      <td>2016</td>\n",
       "      <td>NJ</td>\n",
       "      <td>New Jersey</td>\n",
       "      <td>Middle Atlantic</td>\n",
       "      <td>8.2</td>\n",
       "    </tr>\n",
       "    <tr>\n",
       "      <th>355</th>\n",
       "      <td>2018</td>\n",
       "      <td>NJ</td>\n",
       "      <td>New Jersey</td>\n",
       "      <td>Middle Atlantic</td>\n",
       "      <td>8.4</td>\n",
       "    </tr>\n",
       "    <tr>\n",
       "      <th>356</th>\n",
       "      <td>2015</td>\n",
       "      <td>NJ</td>\n",
       "      <td>New Jersey</td>\n",
       "      <td>Middle Atlantic</td>\n",
       "      <td>7.3</td>\n",
       "    </tr>\n",
       "    <tr>\n",
       "      <th>357</th>\n",
       "      <td>2019</td>\n",
       "      <td>NJ</td>\n",
       "      <td>New Jersey</td>\n",
       "      <td>Middle Atlantic</td>\n",
       "      <td>8.4</td>\n",
       "    </tr>\n",
       "    <tr>\n",
       "      <th>358</th>\n",
       "      <td>2017</td>\n",
       "      <td>NJ</td>\n",
       "      <td>New Jersey</td>\n",
       "      <td>Middle Atlantic</td>\n",
       "      <td>8.4</td>\n",
       "    </tr>\n",
       "    <tr>\n",
       "      <th>359</th>\n",
       "      <td>2013</td>\n",
       "      <td>NJ</td>\n",
       "      <td>New Jersey</td>\n",
       "      <td>Middle Atlantic</td>\n",
       "      <td>9.0</td>\n",
       "    </tr>\n",
       "  </tbody>\n",
       "</table>\n",
       "</div>"
      ],
      "text/plain": [
       "     year state      stname              div  aap\n",
       "351  2011    NJ  New Jersey  Middle Atlantic  9.0\n",
       "352  2012    NJ  New Jersey  Middle Atlantic  8.8\n",
       "353  2014    NJ  New Jersey  Middle Atlantic  8.3\n",
       "354  2016    NJ  New Jersey  Middle Atlantic  8.2\n",
       "355  2018    NJ  New Jersey  Middle Atlantic  8.4\n",
       "356  2015    NJ  New Jersey  Middle Atlantic  7.3\n",
       "357  2019    NJ  New Jersey  Middle Atlantic  8.4\n",
       "358  2017    NJ  New Jersey  Middle Atlantic  8.4\n",
       "359  2013    NJ  New Jersey  Middle Atlantic  9.0"
      ]
     },
     "execution_count": 13,
     "metadata": {},
     "output_type": "execute_result"
    }
   ],
   "source": [
    "# Fill the only NA value with the average age-adjusted prevalence in NJ\n",
    "NJ_aap_mean = round(asthma_aap.query('state == \"NJ\"').mean()['aap'], 1)\n",
    "asthma_aap = asthma_aap.fillna(value={'aap': NJ_aap_mean})\n",
    "asthma_aap.query('state == \"NJ\"')"
   ]
  },
  {
   "cell_type": "code",
   "execution_count": 14,
   "metadata": {},
   "outputs": [
    {
     "data": {
      "text/html": [
       "<div>\n",
       "<style scoped>\n",
       "    .dataframe tbody tr th:only-of-type {\n",
       "        vertical-align: middle;\n",
       "    }\n",
       "\n",
       "    .dataframe tbody tr th {\n",
       "        vertical-align: top;\n",
       "    }\n",
       "\n",
       "    .dataframe thead th {\n",
       "        text-align: right;\n",
       "    }\n",
       "</style>\n",
       "<table border=\"1\" class=\"dataframe\">\n",
       "  <thead>\n",
       "    <tr style=\"text-align: right;\">\n",
       "      <th>year</th>\n",
       "      <th>2011</th>\n",
       "      <th>2012</th>\n",
       "      <th>2013</th>\n",
       "      <th>2014</th>\n",
       "      <th>2015</th>\n",
       "      <th>2016</th>\n",
       "      <th>2017</th>\n",
       "      <th>2018</th>\n",
       "      <th>2019</th>\n",
       "    </tr>\n",
       "    <tr>\n",
       "      <th>div</th>\n",
       "      <th></th>\n",
       "      <th></th>\n",
       "      <th></th>\n",
       "      <th></th>\n",
       "      <th></th>\n",
       "      <th></th>\n",
       "      <th></th>\n",
       "      <th></th>\n",
       "      <th></th>\n",
       "    </tr>\n",
       "  </thead>\n",
       "  <tbody>\n",
       "    <tr>\n",
       "      <th>East North Central</th>\n",
       "      <td>9.3</td>\n",
       "      <td>9.5</td>\n",
       "      <td>9.7</td>\n",
       "      <td>10.3</td>\n",
       "      <td>9.6</td>\n",
       "      <td>9.6</td>\n",
       "      <td>9.6</td>\n",
       "      <td>9.7</td>\n",
       "      <td>10.1</td>\n",
       "    </tr>\n",
       "    <tr>\n",
       "      <th>East South Central</th>\n",
       "      <td>8.2</td>\n",
       "      <td>8.7</td>\n",
       "      <td>8.1</td>\n",
       "      <td>9.5</td>\n",
       "      <td>9.8</td>\n",
       "      <td>10.3</td>\n",
       "      <td>10.1</td>\n",
       "      <td>10.2</td>\n",
       "      <td>9.2</td>\n",
       "    </tr>\n",
       "    <tr>\n",
       "      <th>Middle Atlantic</th>\n",
       "      <td>9.4</td>\n",
       "      <td>9.4</td>\n",
       "      <td>9.5</td>\n",
       "      <td>9.9</td>\n",
       "      <td>9.5</td>\n",
       "      <td>9.6</td>\n",
       "      <td>9.4</td>\n",
       "      <td>9.7</td>\n",
       "      <td>9.7</td>\n",
       "    </tr>\n",
       "    <tr>\n",
       "      <th>Mountain</th>\n",
       "      <td>9.0</td>\n",
       "      <td>8.7</td>\n",
       "      <td>8.7</td>\n",
       "      <td>9.0</td>\n",
       "      <td>9.0</td>\n",
       "      <td>9.1</td>\n",
       "      <td>9.6</td>\n",
       "      <td>9.3</td>\n",
       "      <td>9.6</td>\n",
       "    </tr>\n",
       "    <tr>\n",
       "      <th>New England</th>\n",
       "      <td>10.9</td>\n",
       "      <td>10.7</td>\n",
       "      <td>11.2</td>\n",
       "      <td>11.1</td>\n",
       "      <td>10.6</td>\n",
       "      <td>10.8</td>\n",
       "      <td>11.5</td>\n",
       "      <td>10.8</td>\n",
       "      <td>10.8</td>\n",
       "    </tr>\n",
       "    <tr>\n",
       "      <th>Pacific</th>\n",
       "      <td>8.8</td>\n",
       "      <td>9.1</td>\n",
       "      <td>9.1</td>\n",
       "      <td>8.2</td>\n",
       "      <td>8.2</td>\n",
       "      <td>8.3</td>\n",
       "      <td>8.5</td>\n",
       "      <td>8.9</td>\n",
       "      <td>8.4</td>\n",
       "    </tr>\n",
       "    <tr>\n",
       "      <th>South Atlantic</th>\n",
       "      <td>8.5</td>\n",
       "      <td>8.3</td>\n",
       "      <td>8.5</td>\n",
       "      <td>8.3</td>\n",
       "      <td>8.2</td>\n",
       "      <td>8.1</td>\n",
       "      <td>8.6</td>\n",
       "      <td>9.1</td>\n",
       "      <td>8.2</td>\n",
       "    </tr>\n",
       "    <tr>\n",
       "      <th>West North Central</th>\n",
       "      <td>8.1</td>\n",
       "      <td>8.6</td>\n",
       "      <td>8.8</td>\n",
       "      <td>8.8</td>\n",
       "      <td>8.4</td>\n",
       "      <td>8.5</td>\n",
       "      <td>8.6</td>\n",
       "      <td>8.8</td>\n",
       "      <td>9.0</td>\n",
       "    </tr>\n",
       "    <tr>\n",
       "      <th>West South Central</th>\n",
       "      <td>7.7</td>\n",
       "      <td>7.3</td>\n",
       "      <td>7.6</td>\n",
       "      <td>7.2</td>\n",
       "      <td>7.9</td>\n",
       "      <td>8.0</td>\n",
       "      <td>7.9</td>\n",
       "      <td>8.1</td>\n",
       "      <td>7.6</td>\n",
       "    </tr>\n",
       "  </tbody>\n",
       "</table>\n",
       "</div>"
      ],
      "text/plain": [
       "year                2011  2012  2013  2014  2015  2016  2017  2018  2019\n",
       "div                                                                     \n",
       "East North Central   9.3   9.5   9.7  10.3   9.6   9.6   9.6   9.7  10.1\n",
       "East South Central   8.2   8.7   8.1   9.5   9.8  10.3  10.1  10.2   9.2\n",
       "Middle Atlantic      9.4   9.4   9.5   9.9   9.5   9.6   9.4   9.7   9.7\n",
       "Mountain             9.0   8.7   8.7   9.0   9.0   9.1   9.6   9.3   9.6\n",
       "New England         10.9  10.7  11.2  11.1  10.6  10.8  11.5  10.8  10.8\n",
       "Pacific              8.8   9.1   9.1   8.2   8.2   8.3   8.5   8.9   8.4\n",
       "South Atlantic       8.5   8.3   8.5   8.3   8.2   8.1   8.6   9.1   8.2\n",
       "West North Central   8.1   8.6   8.8   8.8   8.4   8.5   8.6   8.8   9.0\n",
       "West South Central   7.7   7.3   7.6   7.2   7.9   8.0   7.9   8.1   7.6"
      ]
     },
     "execution_count": 14,
     "metadata": {},
     "output_type": "execute_result"
    }
   ],
   "source": [
    "# Calculate weighted average age-adjusted prevalence for each division\n",
    "state_pop_means_df = pd.DataFrame( # Calculate mean population in each state over the years 2011-2019\n",
    "        list(\n",
    "            map(\n",
    "                lambda x: [x[0], round(np.mean(x[1:]), 0)], \n",
    "                state_pops.query('SUMLEV == 40')[['NAME'] + list(state_pops.columns[8:17])].to_numpy()\n",
    "            )\n",
    "        )\n",
    "    ).rename(columns={1: 'pop_mean'})\n",
    "\n",
    "asthma_aap_pop_means = asthma_aap.merge(# Merge mean population with AAP DataFrame\n",
    "        state_pop_means_df, \n",
    "        left_on='stname', \n",
    "        right_on=0\n",
    "    ).drop(columns=0) \n",
    "\n",
    "asthma_aap_pop_means['asthma_est'] = (asthma_aap_pop_means['aap'] * asthma_aap_pop_means['pop_mean'] / 100).apply( # Calculate estimated number of people with asthma\n",
    "        lambda x: round(x, 0)\n",
    "    ) \n",
    "\n",
    "asthma_div_agg = asthma_aap_pop_means.groupby(# Add up the components for calculating the weighted averages\n",
    "        ['year', 'div']\n",
    "    )[['pop_mean', 'asthma_est']].sum() \n",
    "\n",
    "asthma_aap_div = (100 * asthma_div_agg['asthma_est'] / asthma_div_agg['pop_mean']).apply(\n",
    "        lambda x: round(x, 1)\n",
    "    ).unstack( # Calculate the weighted averages\n",
    "        level=0\n",
    "    )\n",
    "\n",
    "asthma_aap_div"
   ]
  },
  {
   "cell_type": "code",
   "execution_count": 15,
   "metadata": {
    "jupyter": {
     "outputs_hidden": true
    }
   },
   "outputs": [
    {
     "data": {
      "text/html": [
       "<div>\n",
       "<style scoped>\n",
       "    .dataframe tbody tr th:only-of-type {\n",
       "        vertical-align: middle;\n",
       "    }\n",
       "\n",
       "    .dataframe tbody tr th {\n",
       "        vertical-align: top;\n",
       "    }\n",
       "\n",
       "    .dataframe thead th {\n",
       "        text-align: right;\n",
       "    }\n",
       "</style>\n",
       "<table border=\"1\" class=\"dataframe\">\n",
       "  <thead>\n",
       "    <tr style=\"text-align: right;\">\n",
       "      <th></th>\n",
       "      <th>div</th>\n",
       "      <th>year</th>\n",
       "      <th>aap_w</th>\n",
       "    </tr>\n",
       "  </thead>\n",
       "  <tbody>\n",
       "    <tr>\n",
       "      <th>0</th>\n",
       "      <td>East North Central</td>\n",
       "      <td>2011</td>\n",
       "      <td>9.3</td>\n",
       "    </tr>\n",
       "    <tr>\n",
       "      <th>1</th>\n",
       "      <td>East North Central</td>\n",
       "      <td>2012</td>\n",
       "      <td>9.5</td>\n",
       "    </tr>\n",
       "    <tr>\n",
       "      <th>2</th>\n",
       "      <td>East North Central</td>\n",
       "      <td>2013</td>\n",
       "      <td>9.7</td>\n",
       "    </tr>\n",
       "    <tr>\n",
       "      <th>3</th>\n",
       "      <td>East North Central</td>\n",
       "      <td>2014</td>\n",
       "      <td>10.3</td>\n",
       "    </tr>\n",
       "    <tr>\n",
       "      <th>4</th>\n",
       "      <td>East North Central</td>\n",
       "      <td>2015</td>\n",
       "      <td>9.6</td>\n",
       "    </tr>\n",
       "    <tr>\n",
       "      <th>5</th>\n",
       "      <td>East North Central</td>\n",
       "      <td>2016</td>\n",
       "      <td>9.6</td>\n",
       "    </tr>\n",
       "    <tr>\n",
       "      <th>6</th>\n",
       "      <td>East North Central</td>\n",
       "      <td>2017</td>\n",
       "      <td>9.6</td>\n",
       "    </tr>\n",
       "    <tr>\n",
       "      <th>7</th>\n",
       "      <td>East North Central</td>\n",
       "      <td>2018</td>\n",
       "      <td>9.7</td>\n",
       "    </tr>\n",
       "    <tr>\n",
       "      <th>8</th>\n",
       "      <td>East North Central</td>\n",
       "      <td>2019</td>\n",
       "      <td>10.1</td>\n",
       "    </tr>\n",
       "    <tr>\n",
       "      <th>9</th>\n",
       "      <td>East South Central</td>\n",
       "      <td>2011</td>\n",
       "      <td>8.2</td>\n",
       "    </tr>\n",
       "  </tbody>\n",
       "</table>\n",
       "</div>"
      ],
      "text/plain": [
       "                  div  year  aap_w\n",
       "0  East North Central  2011    9.3\n",
       "1  East North Central  2012    9.5\n",
       "2  East North Central  2013    9.7\n",
       "3  East North Central  2014   10.3\n",
       "4  East North Central  2015    9.6\n",
       "5  East North Central  2016    9.6\n",
       "6  East North Central  2017    9.6\n",
       "7  East North Central  2018    9.7\n",
       "8  East North Central  2019   10.1\n",
       "9  East South Central  2011    8.2"
      ]
     },
     "execution_count": 15,
     "metadata": {},
     "output_type": "execute_result"
    }
   ],
   "source": [
    "asthma_aap_div_melt = asthma_aap_div.melt(\n",
    "        ignore_index=False\n",
    "    ).reset_index().rename(\n",
    "        columns={'value': 'aap_w'}\n",
    "    ).sort_values(['div', 'year'], ignore_index=True)\n",
    "\n",
    "asthma_aap_div_melt.head(10)"
   ]
  },
  {
   "cell_type": "markdown",
   "metadata": {},
   "source": [
    "*For causal inference*:"
   ]
  },
  {
   "cell_type": "code",
   "execution_count": 16,
   "metadata": {
    "jupyter": {
     "outputs_hidden": true
    }
   },
   "outputs": [
    {
     "data": {
      "text/html": [
       "<div>\n",
       "<style scoped>\n",
       "    .dataframe tbody tr th:only-of-type {\n",
       "        vertical-align: middle;\n",
       "    }\n",
       "\n",
       "    .dataframe tbody tr th {\n",
       "        vertical-align: top;\n",
       "    }\n",
       "\n",
       "    .dataframe thead th {\n",
       "        text-align: right;\n",
       "    }\n",
       "</style>\n",
       "<table border=\"1\" class=\"dataframe\">\n",
       "  <thead>\n",
       "    <tr style=\"text-align: right;\">\n",
       "      <th></th>\n",
       "      <th>year</th>\n",
       "      <th>state</th>\n",
       "      <th>stname</th>\n",
       "      <th>ds_pm_pred</th>\n",
       "    </tr>\n",
       "  </thead>\n",
       "  <tbody>\n",
       "    <tr>\n",
       "      <th>0</th>\n",
       "      <td>2011</td>\n",
       "      <td>AL</td>\n",
       "      <td>Alabama</td>\n",
       "      <td>10.696324</td>\n",
       "    </tr>\n",
       "    <tr>\n",
       "      <th>1</th>\n",
       "      <td>2012</td>\n",
       "      <td>AL</td>\n",
       "      <td>Alabama</td>\n",
       "      <td>10.396601</td>\n",
       "    </tr>\n",
       "    <tr>\n",
       "      <th>2</th>\n",
       "      <td>2013</td>\n",
       "      <td>AL</td>\n",
       "      <td>Alabama</td>\n",
       "      <td>10.039805</td>\n",
       "    </tr>\n",
       "    <tr>\n",
       "      <th>3</th>\n",
       "      <td>2014</td>\n",
       "      <td>AL</td>\n",
       "      <td>Alabama</td>\n",
       "      <td>11.007064</td>\n",
       "    </tr>\n",
       "    <tr>\n",
       "      <th>4</th>\n",
       "      <td>2011</td>\n",
       "      <td>DE</td>\n",
       "      <td>Delaware</td>\n",
       "      <td>9.671609</td>\n",
       "    </tr>\n",
       "  </tbody>\n",
       "</table>\n",
       "</div>"
      ],
      "text/plain": [
       "   year state    stname  ds_pm_pred\n",
       "0  2011    AL   Alabama   10.696324\n",
       "1  2012    AL   Alabama   10.396601\n",
       "2  2013    AL   Alabama   10.039805\n",
       "3  2014    AL   Alabama   11.007064\n",
       "4  2011    DE  Delaware    9.671609"
      ]
     },
     "execution_count": 16,
     "metadata": {},
     "output_type": "execute_result"
    }
   ],
   "source": [
    "# Add state names to the PM2.5 data\n",
    "pm25_states = pm25.merge(\n",
    "        fips, \n",
    "        left_on='statefips', \n",
    "        right_on=' st'\n",
    "    ).drop(\n",
    "        columns=['ds_pm_stdd', 'statefips', ' st']\n",
    "    ).rename(\n",
    "        columns={' stusps': 'state'}\n",
    "    )[['year', 'state', 'stname', 'ds_pm_pred']]\n",
    "pm25_states.head()"
   ]
  },
  {
   "cell_type": "code",
   "execution_count": 17,
   "metadata": {
    "jupyter": {
     "outputs_hidden": true
    }
   },
   "outputs": [
    {
     "data": {
      "text/html": [
       "<div>\n",
       "<style scoped>\n",
       "    .dataframe tbody tr th:only-of-type {\n",
       "        vertical-align: middle;\n",
       "    }\n",
       "\n",
       "    .dataframe tbody tr th {\n",
       "        vertical-align: top;\n",
       "    }\n",
       "\n",
       "    .dataframe thead th {\n",
       "        text-align: right;\n",
       "    }\n",
       "</style>\n",
       "<table border=\"1\" class=\"dataframe\">\n",
       "  <thead>\n",
       "    <tr style=\"text-align: right;\">\n",
       "      <th></th>\n",
       "      <th>year</th>\n",
       "      <th>state</th>\n",
       "      <th>div</th>\n",
       "      <th>ds_pm_pred</th>\n",
       "      <th>aap</th>\n",
       "    </tr>\n",
       "  </thead>\n",
       "  <tbody>\n",
       "    <tr>\n",
       "      <th>0</th>\n",
       "      <td>2011</td>\n",
       "      <td>AL</td>\n",
       "      <td>East South Central</td>\n",
       "      <td>10.696324</td>\n",
       "      <td>8.0</td>\n",
       "    </tr>\n",
       "    <tr>\n",
       "      <th>1</th>\n",
       "      <td>2012</td>\n",
       "      <td>AL</td>\n",
       "      <td>East South Central</td>\n",
       "      <td>10.396601</td>\n",
       "      <td>8.5</td>\n",
       "    </tr>\n",
       "    <tr>\n",
       "      <th>2</th>\n",
       "      <td>2013</td>\n",
       "      <td>AL</td>\n",
       "      <td>East South Central</td>\n",
       "      <td>10.039805</td>\n",
       "      <td>8.5</td>\n",
       "    </tr>\n",
       "    <tr>\n",
       "      <th>3</th>\n",
       "      <td>2014</td>\n",
       "      <td>AL</td>\n",
       "      <td>East South Central</td>\n",
       "      <td>11.007064</td>\n",
       "      <td>9.5</td>\n",
       "    </tr>\n",
       "    <tr>\n",
       "      <th>4</th>\n",
       "      <td>2011</td>\n",
       "      <td>DE</td>\n",
       "      <td>South Atlantic</td>\n",
       "      <td>9.671609</td>\n",
       "      <td>10.0</td>\n",
       "    </tr>\n",
       "  </tbody>\n",
       "</table>\n",
       "</div>"
      ],
      "text/plain": [
       "   year state                 div  ds_pm_pred   aap\n",
       "0  2011    AL  East South Central   10.696324   8.0\n",
       "1  2012    AL  East South Central   10.396601   8.5\n",
       "2  2013    AL  East South Central   10.039805   8.5\n",
       "3  2014    AL  East South Central   11.007064   9.5\n",
       "4  2011    DE      South Atlantic    9.671609  10.0"
      ]
     },
     "execution_count": 17,
     "metadata": {},
     "output_type": "execute_result"
    }
   ],
   "source": [
    "# Merge AAP data with PM2.5 data\n",
    "pm25_asthma = pm25_states.merge(\n",
    "        asthma_aap,\n",
    "        how='left',\n",
    "        on=['year', 'stname']\n",
    "    ).drop(\n",
    "        columns='state_y'\n",
    "    ).rename(\n",
    "        columns={'state_x': 'state'}\n",
    "    )[['year', 'state', 'div', 'ds_pm_pred', 'aap']]\n",
    "pm25_asthma.head()"
   ]
  },
  {
   "cell_type": "markdown",
   "metadata": {},
   "source": [
    "## Multiple hypothesis testing\n",
    "First, we check visually that the assumption of normality is valid:"
   ]
  },
  {
   "cell_type": "code",
   "execution_count": 18,
   "metadata": {
    "jupyter": {
     "outputs_hidden": true
    }
   },
   "outputs": [
    {
     "data": {
      "image/png": "[encoded data removed]",
      "text/plain": [
       "<Figure size 432x288 with 1 Axes>"
      ]
     },
     "metadata": {
      "needs_background": "light"
     },
     "output_type": "display_data"
    },
    {
     "data": {
      "image/png": "[encoded data removed]",
      "text/plain": [
       "<Figure size 432x288 with 1 Axes>"
      ]
     },
     "metadata": {
      "needs_background": "light"
     },
     "output_type": "display_data"
    },
    {
     "data": {
      "image/png": "[encoded data removed]",
      "text/plain": [
       "<Figure size 432x288 with 1 Axes>"
      ]
     },
     "metadata": {
      "needs_background": "light"
     },
     "output_type": "display_data"
    },
    {
     "data": {
      "image/png": "[encoded data removed]",
      "text/plain": [
       "<Figure size 432x288 with 1 Axes>"
      ]
     },
     "metadata": {
      "needs_background": "light"
     },
     "output_type": "display_data"
    },
    {
     "data": {
      "image/png": "[encoded data removed]",
      "text/plain": [
       "<Figure size 432x288 with 1 Axes>"
      ]
     },
     "metadata": {
      "needs_background": "light"
     },
     "output_type": "display_data"
    },
    {
     "data": {
      "image/png": "[encoded data removed]",
      "text/plain": [
       "<Figure size 432x288 with 1 Axes>"
      ]
     },
     "metadata": {
      "needs_background": "light"
     },
     "output_type": "display_data"
    },
    {
     "data": {
      "image/png": "[encoded data removed]",
      "text/plain": [
       "<Figure size 432x288 with 1 Axes>"
      ]
     },
     "metadata": {
      "needs_background": "light"
     },
     "output_type": "display_data"
    },
    {
     "data": {
      "image/png": "[encoded data removed]",
      "text/plain": [
       "<Figure size 432x288 with 1 Axes>"
      ]
     },
     "metadata": {
      "needs_background": "light"
     },
     "output_type": "display_data"
    },
    {
     "data": {
      "image/png": "[encoded data removed]",
      "text/plain": [
       "<Figure size 432x288 with 1 Axes>"
      ]
     },
     "metadata": {
      "needs_background": "light"
     },
     "output_type": "display_data"
    }
   ],
   "source": [
    "# Adapted from Brighten's notebook\n",
    "for div in asthma_aap_div_melt.value_counts('div').index:\n",
    "    plt.figure(div);\n",
    "    plt.hist(asthma_aap_div_melt.query('div == \"' + div + '\"')['aap_w'], density=1, color='c');\n",
    "    plt.xlabel('aap');\n",
    "    plt.title(div);"
   ]
  },
  {
   "cell_type": "code",
   "execution_count": 19,
   "metadata": {
    "jupyter": {
     "outputs_hidden": true
    }
   },
   "outputs": [
    {
     "name": "stderr",
     "output_type": "stream",
     "text": [
      "/opt/conda/lib/python3.9/site-packages/statsmodels/graphics/gofplots.py:993: UserWarning: marker is redundantly defined by the 'marker' keyword argument and the fmt string \"bo\" (-> marker='o'). The keyword argument will take precedence.\n",
      "  ax.plot(x, y, fmt, **plot_style)\n",
      "/opt/conda/lib/python3.9/site-packages/statsmodels/graphics/gofplots.py:993: UserWarning: marker is redundantly defined by the 'marker' keyword argument and the fmt string \"bo\" (-> marker='o'). The keyword argument will take precedence.\n",
      "  ax.plot(x, y, fmt, **plot_style)\n",
      "/opt/conda/lib/python3.9/site-packages/statsmodels/graphics/gofplots.py:993: UserWarning: marker is redundantly defined by the 'marker' keyword argument and the fmt string \"bo\" (-> marker='o'). The keyword argument will take precedence.\n",
      "  ax.plot(x, y, fmt, **plot_style)\n",
      "/opt/conda/lib/python3.9/site-packages/statsmodels/graphics/gofplots.py:993: UserWarning: marker is redundantly defined by the 'marker' keyword argument and the fmt string \"bo\" (-> marker='o'). The keyword argument will take precedence.\n",
      "  ax.plot(x, y, fmt, **plot_style)\n",
      "/opt/conda/lib/python3.9/site-packages/statsmodels/graphics/gofplots.py:993: UserWarning: marker is redundantly defined by the 'marker' keyword argument and the fmt string \"bo\" (-> marker='o'). The keyword argument will take precedence.\n",
      "  ax.plot(x, y, fmt, **plot_style)\n",
      "/opt/conda/lib/python3.9/site-packages/statsmodels/graphics/gofplots.py:993: UserWarning: marker is redundantly defined by the 'marker' keyword argument and the fmt string \"bo\" (-> marker='o'). The keyword argument will take precedence.\n",
      "  ax.plot(x, y, fmt, **plot_style)\n",
      "/opt/conda/lib/python3.9/site-packages/statsmodels/graphics/gofplots.py:993: UserWarning: marker is redundantly defined by the 'marker' keyword argument and the fmt string \"bo\" (-> marker='o'). The keyword argument will take precedence.\n",
      "  ax.plot(x, y, fmt, **plot_style)\n",
      "/opt/conda/lib/python3.9/site-packages/statsmodels/graphics/gofplots.py:993: UserWarning: marker is redundantly defined by the 'marker' keyword argument and the fmt string \"bo\" (-> marker='o'). The keyword argument will take precedence.\n",
      "  ax.plot(x, y, fmt, **plot_style)\n",
      "/opt/conda/lib/python3.9/site-packages/statsmodels/graphics/gofplots.py:993: UserWarning: marker is redundantly defined by the 'marker' keyword argument and the fmt string \"bo\" (-> marker='o'). The keyword argument will take precedence.\n",
      "  ax.plot(x, y, fmt, **plot_style)\n"
     ]
    },
    {
     "data": {
      "text/plain": [
       "<Figure size 432x288 with 0 Axes>"
      ]
     },
     "metadata": {},
     "output_type": "display_data"
    },
    {
     "data": {
      "image/png": "[encoded data removed]",
      "text/plain": [
       "<Figure size 432x288 with 1 Axes>"
      ]
     },
     "metadata": {
      "needs_background": "light"
     },
     "output_type": "display_data"
    },
    {
     "data": {
      "text/plain": [
       "<Figure size 432x288 with 0 Axes>"
      ]
     },
     "metadata": {},
     "output_type": "display_data"
    },
    {
     "data": {
      "image/png": "[encoded data removed]",
      "text/plain": [
       "<Figure size 432x288 with 1 Axes>"
      ]
     },
     "metadata": {
      "needs_background": "light"
     },
     "output_type": "display_data"
    },
    {
     "data": {
      "text/plain": [
       "<Figure size 432x288 with 0 Axes>"
      ]
     },
     "metadata": {},
     "output_type": "display_data"
    },
    {
     "data": {
      "image/png": "[encoded data removed]",
      "text/plain": [
       "<Figure size 432x288 with 1 Axes>"
      ]
     },
     "metadata": {
      "needs_background": "light"
     },
     "output_type": "display_data"
    },
    {
     "data": {
      "text/plain": [
       "<Figure size 432x288 with 0 Axes>"
      ]
     },
     "metadata": {},
     "output_type": "display_data"
    },
    {
     "data": {
      "image/png": "[encoded data removed]",
      "text/plain": [
       "<Figure size 432x288 with 1 Axes>"
      ]
     },
     "metadata": {
      "needs_background": "light"
     },
     "output_type": "display_data"
    },
    {
     "data": {
      "text/plain": [
       "<Figure size 432x288 with 0 Axes>"
      ]
     },
     "metadata": {},
     "output_type": "display_data"
    },
    {
     "data": {
      "image/png": "[encoded data removed]",
      "text/plain": [
       "<Figure size 432x288 with 1 Axes>"
      ]
     },
     "metadata": {
      "needs_background": "light"
     },
     "output_type": "display_data"
    },
    {
     "data": {
      "text/plain": [
       "<Figure size 432x288 with 0 Axes>"
      ]
     },
     "metadata": {},
     "output_type": "display_data"
    },
    {
     "data": {
      "image/png": "[encoded data removed]",
      "text/plain": [
       "<Figure size 432x288 with 1 Axes>"
      ]
     },
     "metadata": {
      "needs_background": "light"
     },
     "output_type": "display_data"
    },
    {
     "data": {
      "text/plain": [
       "<Figure size 432x288 with 0 Axes>"
      ]
     },
     "metadata": {},
     "output_type": "display_data"
    },
    {
     "data": {
      "image/png": "[encoded data removed]",
      "text/plain": [
       "<Figure size 432x288 with 1 Axes>"
      ]
     },
     "metadata": {
      "needs_background": "light"
     },
     "output_type": "display_data"
    },
    {
     "data": {
      "text/plain": [
       "<Figure size 432x288 with 0 Axes>"
      ]
     },
     "metadata": {},
     "output_type": "display_data"
    },
    {
     "data": {
      "image/png": "[encoded data removed]",
      "text/plain": [
       "<Figure size 432x288 with 1 Axes>"
      ]
     },
     "metadata": {
      "needs_background": "light"
     },
     "output_type": "display_data"
    },
    {
     "data": {
      "text/plain": [
       "<Figure size 432x288 with 0 Axes>"
      ]
     },
     "metadata": {},
     "output_type": "display_data"
    },
    {
     "data": {
      "image/png": "[encoded data removed]",
      "text/plain": [
       "<Figure size 432x288 with 1 Axes>"
      ]
     },
     "metadata": {
      "needs_background": "light"
     },
     "output_type": "display_data"
    }
   ],
   "source": [
    "# Also adapted from Brighten (not stealing, I promise!) \n",
    "for div in asthma_aap_div_melt.value_counts('div').index:\n",
    "    plt.figure(div);\n",
    "    sm.qqplot(asthma_aap_div_melt.query('div == \"' + div + '\"')['aap_w'], line='45', fit=True);\n",
    "    plt.xlabel('aap');\n",
    "    plt.title(div);"
   ]
  },
  {
   "cell_type": "markdown",
   "metadata": {},
   "source": [
    "Statistically, we assume that for a given state, each sampled proportion is independentally and identically distributed according to some normal distribution that is particular to that given state. The weighted mean for a given division is thus a linear combination of normally distributed random variables, so it itself should also be normally distributed.\n",
    "\n",
    "Using the weighted rates, we perform two-sided $t$-tests between every pair of divisions:"
   ]
  },
  {
   "cell_type": "code",
   "execution_count": 23,
   "metadata": {},
   "outputs": [
    {
     "data": {
      "text/html": [
       "<div>\n",
       "<style scoped>\n",
       "    .dataframe tbody tr th:only-of-type {\n",
       "        vertical-align: middle;\n",
       "    }\n",
       "\n",
       "    .dataframe tbody tr th {\n",
       "        vertical-align: top;\n",
       "    }\n",
       "\n",
       "    .dataframe thead th {\n",
       "        text-align: right;\n",
       "    }\n",
       "</style>\n",
       "<table border=\"1\" class=\"dataframe\">\n",
       "  <thead>\n",
       "    <tr style=\"text-align: right;\">\n",
       "      <th>year</th>\n",
       "      <th>2011</th>\n",
       "      <th>2012</th>\n",
       "      <th>2013</th>\n",
       "      <th>2014</th>\n",
       "      <th>2015</th>\n",
       "      <th>2016</th>\n",
       "      <th>2017</th>\n",
       "      <th>2018</th>\n",
       "      <th>2019</th>\n",
       "    </tr>\n",
       "    <tr>\n",
       "      <th>div</th>\n",
       "      <th></th>\n",
       "      <th></th>\n",
       "      <th></th>\n",
       "      <th></th>\n",
       "      <th></th>\n",
       "      <th></th>\n",
       "      <th></th>\n",
       "      <th></th>\n",
       "      <th></th>\n",
       "    </tr>\n",
       "  </thead>\n",
       "  <tbody>\n",
       "    <tr>\n",
       "      <th>East North Central</th>\n",
       "      <td>9.3</td>\n",
       "      <td>9.5</td>\n",
       "      <td>9.7</td>\n",
       "      <td>10.3</td>\n",
       "      <td>9.6</td>\n",
       "      <td>9.6</td>\n",
       "      <td>9.6</td>\n",
       "      <td>9.7</td>\n",
       "      <td>10.1</td>\n",
       "    </tr>\n",
       "    <tr>\n",
       "      <th>East South Central</th>\n",
       "      <td>8.2</td>\n",
       "      <td>8.7</td>\n",
       "      <td>8.1</td>\n",
       "      <td>9.5</td>\n",
       "      <td>9.8</td>\n",
       "      <td>10.3</td>\n",
       "      <td>10.1</td>\n",
       "      <td>10.2</td>\n",
       "      <td>9.2</td>\n",
       "    </tr>\n",
       "    <tr>\n",
       "      <th>Middle Atlantic</th>\n",
       "      <td>9.4</td>\n",
       "      <td>9.4</td>\n",
       "      <td>9.5</td>\n",
       "      <td>9.9</td>\n",
       "      <td>9.5</td>\n",
       "      <td>9.6</td>\n",
       "      <td>9.4</td>\n",
       "      <td>9.7</td>\n",
       "      <td>9.7</td>\n",
       "    </tr>\n",
       "    <tr>\n",
       "      <th>Mountain</th>\n",
       "      <td>9.0</td>\n",
       "      <td>8.7</td>\n",
       "      <td>8.7</td>\n",
       "      <td>9.0</td>\n",
       "      <td>9.0</td>\n",
       "      <td>9.1</td>\n",
       "      <td>9.6</td>\n",
       "      <td>9.3</td>\n",
       "      <td>9.6</td>\n",
       "    </tr>\n",
       "    <tr>\n",
       "      <th>New England</th>\n",
       "      <td>10.9</td>\n",
       "      <td>10.7</td>\n",
       "      <td>11.2</td>\n",
       "      <td>11.1</td>\n",
       "      <td>10.6</td>\n",
       "      <td>10.8</td>\n",
       "      <td>11.5</td>\n",
       "      <td>10.8</td>\n",
       "      <td>10.8</td>\n",
       "    </tr>\n",
       "    <tr>\n",
       "      <th>Pacific</th>\n",
       "      <td>8.8</td>\n",
       "      <td>9.1</td>\n",
       "      <td>9.1</td>\n",
       "      <td>8.2</td>\n",
       "      <td>8.2</td>\n",
       "      <td>8.3</td>\n",
       "      <td>8.5</td>\n",
       "      <td>8.9</td>\n",
       "      <td>8.4</td>\n",
       "    </tr>\n",
       "    <tr>\n",
       "      <th>South Atlantic</th>\n",
       "      <td>8.5</td>\n",
       "      <td>8.3</td>\n",
       "      <td>8.5</td>\n",
       "      <td>8.3</td>\n",
       "      <td>8.2</td>\n",
       "      <td>8.1</td>\n",
       "      <td>8.6</td>\n",
       "      <td>9.1</td>\n",
       "      <td>8.2</td>\n",
       "    </tr>\n",
       "    <tr>\n",
       "      <th>West North Central</th>\n",
       "      <td>8.1</td>\n",
       "      <td>8.6</td>\n",
       "      <td>8.8</td>\n",
       "      <td>8.8</td>\n",
       "      <td>8.4</td>\n",
       "      <td>8.5</td>\n",
       "      <td>8.6</td>\n",
       "      <td>8.8</td>\n",
       "      <td>9.0</td>\n",
       "    </tr>\n",
       "    <tr>\n",
       "      <th>West South Central</th>\n",
       "      <td>7.7</td>\n",
       "      <td>7.3</td>\n",
       "      <td>7.6</td>\n",
       "      <td>7.2</td>\n",
       "      <td>7.9</td>\n",
       "      <td>8.0</td>\n",
       "      <td>7.9</td>\n",
       "      <td>8.1</td>\n",
       "      <td>7.6</td>\n",
       "    </tr>\n",
       "  </tbody>\n",
       "</table>\n",
       "</div>"
      ],
      "text/plain": [
       "year                2011  2012  2013  2014  2015  2016  2017  2018  2019\n",
       "div                                                                     \n",
       "East North Central   9.3   9.5   9.7  10.3   9.6   9.6   9.6   9.7  10.1\n",
       "East South Central   8.2   8.7   8.1   9.5   9.8  10.3  10.1  10.2   9.2\n",
       "Middle Atlantic      9.4   9.4   9.5   9.9   9.5   9.6   9.4   9.7   9.7\n",
       "Mountain             9.0   8.7   8.7   9.0   9.0   9.1   9.6   9.3   9.6\n",
       "New England         10.9  10.7  11.2  11.1  10.6  10.8  11.5  10.8  10.8\n",
       "Pacific              8.8   9.1   9.1   8.2   8.2   8.3   8.5   8.9   8.4\n",
       "South Atlantic       8.5   8.3   8.5   8.3   8.2   8.1   8.6   9.1   8.2\n",
       "West North Central   8.1   8.6   8.8   8.8   8.4   8.5   8.6   8.8   9.0\n",
       "West South Central   7.7   7.3   7.6   7.2   7.9   8.0   7.9   8.1   7.6"
      ]
     },
     "execution_count": 23,
     "metadata": {},
     "output_type": "execute_result"
    }
   ],
   "source": [
    "asthma_aap_div"
   ]
  },
  {
   "cell_type": "code",
   "execution_count": 37,
   "metadata": {},
   "outputs": [
    {
     "data": {
      "text/plain": [
       "['East North Central',\n",
       " 'East South Central',\n",
       " 'Middle Atlantic',\n",
       " 'Mountain',\n",
       " 'New England',\n",
       " 'Pacific',\n",
       " 'South Atlantic',\n",
       " 'West North Central',\n",
       " 'West South Central']"
      ]
     },
     "execution_count": 37,
     "metadata": {},
     "output_type": "execute_result"
    }
   ],
   "source": [
    "aap_samples = asthma_aap_div.values\n",
    "aap_samples\n",
    "divs = list(asthma_aap_div.index)\n",
    "divs"
   ]
  },
  {
   "cell_type": "code",
   "execution_count": 25,
   "metadata": {},
   "outputs": [],
   "source": [
    "from scipy.stats import ttest_ind_from_stats\n",
    "\n",
    "def ttest_ind_props(sample1, sample2):\n",
    "    n1 = len(sample1)\n",
    "    n2 = len(sample2)\n",
    "    \n",
    "    phat1 = np.mean(sample1)\n",
    "    phat2 = np.mean(sample2)\n",
    "    s_phat1 = np.sqrt(phat1 * (1 - phat1) / (n1 - 1))\n",
    "    s_phat2 = np.sqrt(phat2 * (1 - phat2) / (n2 - 1))\n",
    "    \n",
    "    return ttest_ind_from_stats(\n",
    "            mean1=phat1, std1=s_phat1, nobs1=n1,\n",
    "            mean2=phat2, std2=s_phat2, nobs2=n2,\n",
    "            alternative='two-sided'\n",
    "        )"
   ]
  },
  {
   "cell_type": "code",
   "execution_count": 22,
   "metadata": {},
   "outputs": [
    {
     "data": {
      "text/plain": [
       "Ttest_indResult(statistic=-0.6684678180794072, pvalue=0.5133642111584236)"
      ]
     },
     "execution_count": 22,
     "metadata": {},
     "output_type": "execute_result"
    }
   ],
   "source": [
    "ttest_ind_props(aap_samples[8] / 100, aap_samples[4] / 100) # Why so large?"
   ]
  },
  {
   "cell_type": "code",
   "execution_count": 34,
   "metadata": {},
   "outputs": [
    {
     "data": {
      "text/plain": [
       "1.66846690483585e-08"
      ]
     },
     "execution_count": 34,
     "metadata": {},
     "output_type": "execute_result"
    }
   ],
   "source": [
    "from scipy.stats import ttest_rel\n",
    "\n",
    "ttest_rel(aap_samples[8] / 100, aap_samples[4] / 100)[1]"
   ]
  },
  {
   "cell_type": "markdown",
   "metadata": {},
   "source": [
    "we can get nice, rejectable p-values if we use ttest_rel which:\n",
    "\n",
    "'Calculate the t-test on TWO RELATED samples of scores, a and b.\n",
    "\n",
    "This is a two-sided test for the null hypothesis that 2 related or repeated samples have identical average (expected) values.'\n",
    "\n",
    "It would be nice if we could justify that the samples are related. I'm wondering if we can use the fact that our hypothesis assumes that all of these distributions are the same(ie geographic location does NOT affect astham prevelance)"
   ]
  },
  {
   "cell_type": "code",
   "execution_count": 68,
   "metadata": {},
   "outputs": [
    {
     "data": {
      "text/plain": [
       "[0.22802699230441062,\n",
       " 0.03750186742499918,\n",
       " 0.001649862213476168,\n",
       " 1.2579883803860945e-05,\n",
       " 0.0004535784453479192,\n",
       " 3.436345548491335e-05,\n",
       " 1.7322249755662547e-07,\n",
       " 2.797813787215169e-06,\n",
       " 0.4312228630343269,\n",
       " 0.35457983394756465,\n",
       " 0.0007421299319092734,\n",
       " 0.08232021132235967,\n",
       " 0.012997803216135128,\n",
       " 0.033940032567222354,\n",
       " 0.0001280268538841402,\n",
       " 0.004048811818637824,\n",
       " 2.197806760431009e-06,\n",
       " 0.0003094156183124809,\n",
       " 9.879907400661232e-06,\n",
       " 9.66833606169304e-07,\n",
       " 4.798601184274303e-07,\n",
       " 4.984078694344747e-07,\n",
       " 0.03594601657381635,\n",
       " 0.0009192020270517203,\n",
       " 0.0036815097614019787,\n",
       " 1.6451777796429964e-06,\n",
       " 3.129580463453051e-07,\n",
       " 2.5631838932863142e-08,\n",
       " 4.9228401983461945e-08,\n",
       " 1.66846690483585e-08,\n",
       " 0.13123221398726886,\n",
       " 0.9432726625041232,\n",
       " 0.0006452063593909405,\n",
       " 0.15374934199064808,\n",
       " 0.00020810140501704847,\n",
       " 0.0002835293428175852]"
      ]
     },
     "execution_count": 68,
     "metadata": {},
     "output_type": "execute_result"
    }
   ],
   "source": [
    "p_vals = []\n",
    "left_region = []\n",
    "right_region = []\n",
    "\n",
    "for i in np.arange(9):\n",
    "    for j in np.arange(9):\n",
    "        if i==j:\n",
    "            continue\n",
    "        elif divs[j] in left_region and divs[i] in right_region:\n",
    "            continue\n",
    "        else:\n",
    "            p_vals.append(ttest_rel(aap_samples[i] / 100, aap_samples[j] / 100)[1])\n",
    "            left_region.append(divs[i])\n",
    "            right_region.append(divs[j])\n",
    "            \n",
    "\n",
    "p_vals        \n",
    "\n"
   ]
  },
  {
   "cell_type": "code",
   "execution_count": 69,
   "metadata": {},
   "outputs": [],
   "source": [
    "#borrowed from lab01 **B-H requires null p-vals to be indep\n",
    "\n",
    "\n",
    "alpha = 0.05\n",
    "def benjamini_hochberg(p_values, alpha):\n",
    "    \"\"\"\n",
    "    Returns decisions on p-values using Benjamini-Hochberg.\n",
    "    \n",
    "    Inputs:\n",
    "        p_values: array of p-values\n",
    "        alpha: desired FDR (FDR = E[# false positives / # positives])\n",
    "    \n",
    "    Returns:\n",
    "        decisions: binary array of same length as p-values, where `decisions[i]` is 1\n",
    "        if `p_values[i]` is deemed significant, and 0 otherwise\n",
    "    \"\"\"\n",
    "    n = len(p_values)\n",
    "    K = np.arange(n)\n",
    "    p_values_copy = p_values.copy()\n",
    "    p_values_copy.sort()\n",
    "    \n",
    "    opt_p = 0\n",
    "    \n",
    "    for k in K:\n",
    "        if p_values_copy[k] <= [(k+1)*alpha/n]:\n",
    "            \n",
    "            opt_p = p_values_copy[k]\n",
    "   \n",
    "\n",
    "    decisions = p_values <= opt_p\n",
    "    return decisions\n",
    "\n",
    "\n",
    "#Bonferroni also from lab01\n",
    "def bonferroni(p_values, alpha_total):\n",
    "    \"\"\"\n",
    "    Returns decisions on p-values using the Bonferroni correction.\n",
    "    \n",
    "    Inputs:\n",
    "        p_values: array of p-values\n",
    "        alpha_total: desired family-wise error rate (FWER = P(at least one false discovery))\n",
    "    \n",
    "    Returns:\n",
    "        decisions: binary array of same length as p-values, where `decisions[i]` is 1\n",
    "        if `p_values[i]` is deemed significant, and 0 otherwise\n",
    "    \"\"\"\n",
    "    m = len(p_values)\n",
    "    decisions = p_values <= (alpha_total/m)\n",
    "    return decisions"
   ]
  },
  {
   "cell_type": "code",
   "execution_count": 70,
   "metadata": {},
   "outputs": [
    {
     "data": {
      "text/html": [
       "<div>\n",
       "<style scoped>\n",
       "    .dataframe tbody tr th:only-of-type {\n",
       "        vertical-align: middle;\n",
       "    }\n",
       "\n",
       "    .dataframe tbody tr th {\n",
       "        vertical-align: top;\n",
       "    }\n",
       "\n",
       "    .dataframe thead th {\n",
       "        text-align: right;\n",
       "    }\n",
       "</style>\n",
       "<table border=\"1\" class=\"dataframe\">\n",
       "  <thead>\n",
       "    <tr style=\"text-align: right;\">\n",
       "      <th></th>\n",
       "      <th>left</th>\n",
       "      <th>right</th>\n",
       "      <th>reject_null</th>\n",
       "    </tr>\n",
       "  </thead>\n",
       "  <tbody>\n",
       "    <tr>\n",
       "      <th>0</th>\n",
       "      <td>East North Central</td>\n",
       "      <td>East South Central</td>\n",
       "      <td>0</td>\n",
       "    </tr>\n",
       "    <tr>\n",
       "      <th>1</th>\n",
       "      <td>East North Central</td>\n",
       "      <td>Middle Atlantic</td>\n",
       "      <td>0</td>\n",
       "    </tr>\n",
       "    <tr>\n",
       "      <th>2</th>\n",
       "      <td>East North Central</td>\n",
       "      <td>Mountain</td>\n",
       "      <td>0</td>\n",
       "    </tr>\n",
       "    <tr>\n",
       "      <th>3</th>\n",
       "      <td>East North Central</td>\n",
       "      <td>New England</td>\n",
       "      <td>1</td>\n",
       "    </tr>\n",
       "    <tr>\n",
       "      <th>4</th>\n",
       "      <td>East North Central</td>\n",
       "      <td>Pacific</td>\n",
       "      <td>1</td>\n",
       "    </tr>\n",
       "    <tr>\n",
       "      <th>5</th>\n",
       "      <td>East North Central</td>\n",
       "      <td>South Atlantic</td>\n",
       "      <td>1</td>\n",
       "    </tr>\n",
       "    <tr>\n",
       "      <th>6</th>\n",
       "      <td>East North Central</td>\n",
       "      <td>West North Central</td>\n",
       "      <td>1</td>\n",
       "    </tr>\n",
       "    <tr>\n",
       "      <th>7</th>\n",
       "      <td>East North Central</td>\n",
       "      <td>West South Central</td>\n",
       "      <td>1</td>\n",
       "    </tr>\n",
       "    <tr>\n",
       "      <th>8</th>\n",
       "      <td>East South Central</td>\n",
       "      <td>Middle Atlantic</td>\n",
       "      <td>0</td>\n",
       "    </tr>\n",
       "    <tr>\n",
       "      <th>9</th>\n",
       "      <td>East South Central</td>\n",
       "      <td>Mountain</td>\n",
       "      <td>0</td>\n",
       "    </tr>\n",
       "    <tr>\n",
       "      <th>10</th>\n",
       "      <td>East South Central</td>\n",
       "      <td>New England</td>\n",
       "      <td>1</td>\n",
       "    </tr>\n",
       "    <tr>\n",
       "      <th>11</th>\n",
       "      <td>East South Central</td>\n",
       "      <td>Pacific</td>\n",
       "      <td>0</td>\n",
       "    </tr>\n",
       "    <tr>\n",
       "      <th>12</th>\n",
       "      <td>East South Central</td>\n",
       "      <td>South Atlantic</td>\n",
       "      <td>0</td>\n",
       "    </tr>\n",
       "    <tr>\n",
       "      <th>13</th>\n",
       "      <td>East South Central</td>\n",
       "      <td>West North Central</td>\n",
       "      <td>0</td>\n",
       "    </tr>\n",
       "    <tr>\n",
       "      <th>14</th>\n",
       "      <td>East South Central</td>\n",
       "      <td>West South Central</td>\n",
       "      <td>1</td>\n",
       "    </tr>\n",
       "    <tr>\n",
       "      <th>15</th>\n",
       "      <td>Middle Atlantic</td>\n",
       "      <td>Mountain</td>\n",
       "      <td>0</td>\n",
       "    </tr>\n",
       "    <tr>\n",
       "      <th>16</th>\n",
       "      <td>Middle Atlantic</td>\n",
       "      <td>New England</td>\n",
       "      <td>1</td>\n",
       "    </tr>\n",
       "    <tr>\n",
       "      <th>17</th>\n",
       "      <td>Middle Atlantic</td>\n",
       "      <td>Pacific</td>\n",
       "      <td>1</td>\n",
       "    </tr>\n",
       "    <tr>\n",
       "      <th>18</th>\n",
       "      <td>Middle Atlantic</td>\n",
       "      <td>South Atlantic</td>\n",
       "      <td>1</td>\n",
       "    </tr>\n",
       "    <tr>\n",
       "      <th>19</th>\n",
       "      <td>Middle Atlantic</td>\n",
       "      <td>West North Central</td>\n",
       "      <td>1</td>\n",
       "    </tr>\n",
       "    <tr>\n",
       "      <th>20</th>\n",
       "      <td>Middle Atlantic</td>\n",
       "      <td>West South Central</td>\n",
       "      <td>1</td>\n",
       "    </tr>\n",
       "    <tr>\n",
       "      <th>21</th>\n",
       "      <td>Mountain</td>\n",
       "      <td>New England</td>\n",
       "      <td>1</td>\n",
       "    </tr>\n",
       "    <tr>\n",
       "      <th>22</th>\n",
       "      <td>Mountain</td>\n",
       "      <td>Pacific</td>\n",
       "      <td>0</td>\n",
       "    </tr>\n",
       "    <tr>\n",
       "      <th>23</th>\n",
       "      <td>Mountain</td>\n",
       "      <td>South Atlantic</td>\n",
       "      <td>1</td>\n",
       "    </tr>\n",
       "    <tr>\n",
       "      <th>24</th>\n",
       "      <td>Mountain</td>\n",
       "      <td>West North Central</td>\n",
       "      <td>0</td>\n",
       "    </tr>\n",
       "    <tr>\n",
       "      <th>25</th>\n",
       "      <td>Mountain</td>\n",
       "      <td>West South Central</td>\n",
       "      <td>1</td>\n",
       "    </tr>\n",
       "    <tr>\n",
       "      <th>26</th>\n",
       "      <td>New England</td>\n",
       "      <td>Pacific</td>\n",
       "      <td>1</td>\n",
       "    </tr>\n",
       "    <tr>\n",
       "      <th>27</th>\n",
       "      <td>New England</td>\n",
       "      <td>South Atlantic</td>\n",
       "      <td>1</td>\n",
       "    </tr>\n",
       "    <tr>\n",
       "      <th>28</th>\n",
       "      <td>New England</td>\n",
       "      <td>West North Central</td>\n",
       "      <td>1</td>\n",
       "    </tr>\n",
       "    <tr>\n",
       "      <th>29</th>\n",
       "      <td>New England</td>\n",
       "      <td>West South Central</td>\n",
       "      <td>1</td>\n",
       "    </tr>\n",
       "    <tr>\n",
       "      <th>30</th>\n",
       "      <td>Pacific</td>\n",
       "      <td>South Atlantic</td>\n",
       "      <td>0</td>\n",
       "    </tr>\n",
       "    <tr>\n",
       "      <th>31</th>\n",
       "      <td>Pacific</td>\n",
       "      <td>West North Central</td>\n",
       "      <td>0</td>\n",
       "    </tr>\n",
       "    <tr>\n",
       "      <th>32</th>\n",
       "      <td>Pacific</td>\n",
       "      <td>West South Central</td>\n",
       "      <td>1</td>\n",
       "    </tr>\n",
       "    <tr>\n",
       "      <th>33</th>\n",
       "      <td>South Atlantic</td>\n",
       "      <td>West North Central</td>\n",
       "      <td>0</td>\n",
       "    </tr>\n",
       "    <tr>\n",
       "      <th>34</th>\n",
       "      <td>South Atlantic</td>\n",
       "      <td>West South Central</td>\n",
       "      <td>1</td>\n",
       "    </tr>\n",
       "    <tr>\n",
       "      <th>35</th>\n",
       "      <td>West North Central</td>\n",
       "      <td>West South Central</td>\n",
       "      <td>1</td>\n",
       "    </tr>\n",
       "  </tbody>\n",
       "</table>\n",
       "</div>"
      ],
      "text/plain": [
       "                  left               right  reject_null\n",
       "0   East North Central  East South Central            0\n",
       "1   East North Central     Middle Atlantic            0\n",
       "2   East North Central            Mountain            0\n",
       "3   East North Central         New England            1\n",
       "4   East North Central             Pacific            1\n",
       "5   East North Central      South Atlantic            1\n",
       "6   East North Central  West North Central            1\n",
       "7   East North Central  West South Central            1\n",
       "8   East South Central     Middle Atlantic            0\n",
       "9   East South Central            Mountain            0\n",
       "10  East South Central         New England            1\n",
       "11  East South Central             Pacific            0\n",
       "12  East South Central      South Atlantic            0\n",
       "13  East South Central  West North Central            0\n",
       "14  East South Central  West South Central            1\n",
       "15     Middle Atlantic            Mountain            0\n",
       "16     Middle Atlantic         New England            1\n",
       "17     Middle Atlantic             Pacific            1\n",
       "18     Middle Atlantic      South Atlantic            1\n",
       "19     Middle Atlantic  West North Central            1\n",
       "20     Middle Atlantic  West South Central            1\n",
       "21            Mountain         New England            1\n",
       "22            Mountain             Pacific            0\n",
       "23            Mountain      South Atlantic            1\n",
       "24            Mountain  West North Central            0\n",
       "25            Mountain  West South Central            1\n",
       "26         New England             Pacific            1\n",
       "27         New England      South Atlantic            1\n",
       "28         New England  West North Central            1\n",
       "29         New England  West South Central            1\n",
       "30             Pacific      South Atlantic            0\n",
       "31             Pacific  West North Central            0\n",
       "32             Pacific  West South Central            1\n",
       "33      South Atlantic  West North Central            0\n",
       "34      South Atlantic  West South Central            1\n",
       "35  West North Central  West South Central            1"
      ]
     },
     "execution_count": 70,
     "metadata": {},
     "output_type": "execute_result"
    }
   ],
   "source": [
    "BH_decisions = benjamini_hochberg(np.array(p_vals), alpha)\n",
    "bon_decisions = bonferroni(np.array(p_vals), alpha)\n",
    "\n",
    "\n",
    "#there is definitely a prettier way to do this, but I like for loops soooo\n",
    "\n",
    "decisions = []\n",
    "\n",
    "for i in np.arange(len(BH_decisions)):\n",
    "    decisions.append(int(BH_decisions[i] and bon_decisions[i]))\n",
    "    \n",
    "dec_df = pd.DataFrame({\"left\":left_region, \"right\":right_region, \"reject_null\":decisions})\n",
    "dec_df\n",
    "\n",
    "\n",
    "\n",
    "\n"
   ]
  },
  {
   "cell_type": "code",
   "execution_count": 32,
   "metadata": {},
   "outputs": [
    {
     "data": {
      "image/png": "[encoded data removed]",
      "text/plain": [
       "<Figure size 1080x720 with 1 Axes>"
      ]
     },
     "metadata": {
      "needs_background": "light"
     },
     "output_type": "display_data"
    }
   ],
   "source": [
    "import seaborn as sns\n",
    "\n",
    "\n",
    "plt.figure(figsize = (15,10))\n",
    "sns.boxplot(data=asthma_aap_div.T);"
   ]
  },
  {
   "cell_type": "markdown",
   "metadata": {},
   "source": [
    "## Graveyard\n",
    "Code that didn't make the cut"
   ]
  },
  {
   "cell_type": "code",
   "execution_count": null,
   "metadata": {
    "collapsed": true,
    "jupyter": {
     "outputs_hidden": true
    }
   },
   "outputs": [],
   "source": [
    "asthma_aap_list = asthma_aap.sort_values(\n",
    "        ['stname', 'year']\n",
    "    ).groupby(\n",
    "        'stname'\n",
    "    ).agg(\n",
    "        {'aap': list}\n",
    "    ).reset_index().rename(\n",
    "        columns={'aap': 'aaps'}\n",
    "    ).merge(states, left_on='stname', right_on='State').drop(\n",
    "        columns=['State', 'State Code', 'Region']\n",
    "    ).rename(\n",
    "        columns={'Division': 'div'}\n",
    "    )[['stname', 'div', 'aaps']]\n",
    "\n",
    "asthma_aap_list"
   ]
  },
  {
   "cell_type": "code",
   "execution_count": null,
   "metadata": {
    "collapsed": true,
    "jupyter": {
     "outputs_hidden": true
    }
   },
   "outputs": [],
   "source": [
    "NJ_means = asthma_aap_list.iloc[30, 1]\n",
    "NJ_means[8] = round(np.mean(NJ_means[0:7]), 1)\n",
    "asthma_aap_list"
   ]
  },
  {
   "cell_type": "code",
   "execution_count": null,
   "metadata": {
    "collapsed": true,
    "jupyter": {
     "outputs_hidden": true
    }
   },
   "outputs": [],
   "source": [
    "asthma_aap.value_counts('year')"
   ]
  },
  {
   "cell_type": "code",
   "execution_count": null,
   "metadata": {
    "collapsed": true,
    "jupyter": {
     "outputs_hidden": true
    }
   },
   "outputs": [],
   "source": [
    "state_pops.info(verbose=True)"
   ]
  },
  {
   "cell_type": "code",
   "execution_count": null,
   "metadata": {
    "collapsed": true,
    "jupyter": {
     "outputs_hidden": true
    }
   },
   "outputs": [],
   "source": [
    "state_pops_list = state_pops.query('SUMLEV == 40').melt(\n",
    "        id_vars='NAME', \n",
    "        value_vars=state_pops.columns[8:17]\n",
    "    )[['NAME', 'value']].groupby('NAME').agg(list).reset_index().rename(\n",
    "        columns={'NAME': 'stname', 'value': 'pops'}\n",
    "    )\n",
    "state_pops_list"
   ]
  },
  {
   "cell_type": "code",
   "execution_count": null,
   "metadata": {
    "collapsed": true,
    "jupyter": {
     "outputs_hidden": true
    }
   },
   "outputs": [],
   "source": [
    "asthma_aap_pops = asthma_aap_list.merge(state_pops_list, on='stname')\n",
    "asthma_aap_pops"
   ]
  },
  {
   "cell_type": "code",
   "execution_count": null,
   "metadata": {
    "collapsed": true,
    "jupyter": {
     "outputs_hidden": true
    }
   },
   "outputs": [],
   "source": [
    "state_pop_means = asthma_aap_pops['pops'].apply(lambda x: int(round(np.mean(x), 0))).to_numpy()\n",
    "asthma_aap_pops"
   ]
  },
  {
   "cell_type": "code",
   "execution_count": null,
   "metadata": {},
   "outputs": [],
   "source": []
  }
 ],
 "metadata": {
  "kernelspec": {
   "display_name": "Python 3 (ipykernel)",
   "language": "python",
   "name": "python3"
  },
  "language_info": {
   "codemirror_mode": {
    "name": "ipython",
    "version": 3
   },
   "file_extension": ".py",
   "mimetype": "text/x-python",
   "name": "python",
   "nbconvert_exporter": "python",
   "pygments_lexer": "ipython3",
   "version": "3.9.7"
  }
 },
 "nbformat": 4,
 "nbformat_minor": 4
}
