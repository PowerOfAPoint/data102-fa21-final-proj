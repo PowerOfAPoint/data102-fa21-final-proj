{
 "cells": [
  {
   "cell_type": "code",
   "execution_count": 1,
   "metadata": {
    "executionInfo": {
     "elapsed": 323,
     "status": "ok",
     "timestamp": 1638580661699,
     "user": {
      "displayName": "Brighten Drake",
      "photoUrl": "https://lh3.googleusercontent.com/a-/AOh14GgE_0R3JYD7H08Dd3rM0e6f4ZL8IEMhYBff3ZMWDw=s64",
      "userId": "05739881995952616942"
     },
     "user_tz": 480
    },
    "id": "9h6utDMbknpL"
   },
   "outputs": [
    {
     "ename": "ModuleNotFoundError",
     "evalue": "No module named 'google'",
     "output_type": "error",
     "traceback": [
      "\u001B[0;31m---------------------------------------------------------------------------\u001B[0m",
      "\u001B[0;31mModuleNotFoundError\u001B[0m                       Traceback (most recent call last)",
      "\u001B[0;32m<ipython-input-1-aaba2c2e53e5>\u001B[0m in \u001B[0;36m<module>\u001B[0;34m\u001B[0m\n\u001B[0;32m----> 1\u001B[0;31m \u001B[0;32mfrom\u001B[0m \u001B[0mgoogle\u001B[0m\u001B[0;34m.\u001B[0m\u001B[0mcolab\u001B[0m \u001B[0;32mimport\u001B[0m \u001B[0mfiles\u001B[0m\u001B[0;34m\u001B[0m\u001B[0;34m\u001B[0m\u001B[0m\n\u001B[0m\u001B[1;32m      2\u001B[0m \u001B[0;34m\u001B[0m\u001B[0m\n\u001B[1;32m      3\u001B[0m \u001B[0;32mimport\u001B[0m \u001B[0mnumpy\u001B[0m \u001B[0;32mas\u001B[0m \u001B[0mnp\u001B[0m\u001B[0;34m\u001B[0m\u001B[0;34m\u001B[0m\u001B[0m\n\u001B[1;32m      4\u001B[0m \u001B[0;32mimport\u001B[0m \u001B[0mpandas\u001B[0m \u001B[0;32mas\u001B[0m \u001B[0mpd\u001B[0m\u001B[0;34m\u001B[0m\u001B[0;34m\u001B[0m\u001B[0m\n\u001B[1;32m      5\u001B[0m \u001B[0;32mimport\u001B[0m \u001B[0mmatplotlib\u001B[0m\u001B[0;34m.\u001B[0m\u001B[0mpyplot\u001B[0m \u001B[0;32mas\u001B[0m \u001B[0mplt\u001B[0m\u001B[0;34m\u001B[0m\u001B[0;34m\u001B[0m\u001B[0m\n",
      "\u001B[0;31mModuleNotFoundError\u001B[0m: No module named 'google'"
     ]
    }
   ],
   "source": [
    "import numpy as np\n",
    "import pandas as pd\n",
    "import matplotlib.pyplot as plt\n",
    "import seaborn as sns\n",
    "\n",
    "sns.set_style(style='darkgrid')\n",
    "plt.style.use('ggplot')\n",
    "%matplotlib inline"
   ]
  },
  {
   "cell_type": "code",
   "execution_count": null,
   "metadata": {
    "executionInfo": {
     "elapsed": 763,
     "status": "ok",
     "timestamp": 1638580662687,
     "user": {
      "displayName": "Brighten Drake",
      "photoUrl": "https://lh3.googleusercontent.com/a-/AOh14GgE_0R3JYD7H08Dd3rM0e6f4ZL8IEMhYBff3ZMWDw=s64",
      "userId": "05739881995952616942"
     },
     "user_tz": 480
    },
    "id": "0zrVpE2nk1bn"
   },
   "outputs": [],
   "source": [
    " #files.upload()\n",
    "asthma = pd.read_csv('data/asthma.csv')\n",
    "\n",
    " #files.upload()\n",
    "#PM2_5 = pd.read_csv('Daily_Census_Tract-Level_PM2.5_Concentrations__2011-2014_4.csv')\n",
    "\n",
    "# files.upload()\n",
    "states = pd.read_csv('states.csv')\n",
    "state_fips_code = pd.read_csv('https://gist.githubusercontent.com/dantonnoriega/bf1acd2290e15b91e6710b6fd3be0a53/raw/11d15233327c8080c9646c7e1f23052659db251d/us-state-ansi-fips.csv')"
   ]
  },
  {
   "cell_type": "code",
   "execution_count": null,
   "metadata": {
    "colab": {
     "base_uri": "https://localhost:8080/",
     "height": 417
    },
    "executionInfo": {
     "elapsed": 28,
     "status": "ok",
     "timestamp": 1638580662698,
     "user": {
      "displayName": "Brighten Drake",
      "photoUrl": "https://lh3.googleusercontent.com/a-/AOh14GgE_0R3JYD7H08Dd3rM0e6f4ZL8IEMhYBff3ZMWDw=s64",
      "userId": "05739881995952616942"
     },
     "user_tz": 480
    },
    "id": "PUa3Tqt7k35K",
    "outputId": "3c3ce7fe-b016-43a7-85c5-920abcadcddf"
   },
   "outputs": [],
   "source": [
    "asthma_states = asthma.merge(states, left_on='LocationAbbr', right_on='State Code')\n",
    "asthma_states.head()"
   ]
  },
  {
   "cell_type": "code",
   "execution_count": null,
   "metadata": {
    "colab": {
     "base_uri": "https://localhost:8080/",
     "height": 423
    },
    "executionInfo": {
     "elapsed": 26,
     "status": "ok",
     "timestamp": 1638580662701,
     "user": {
      "displayName": "Brighten Drake",
      "photoUrl": "https://lh3.googleusercontent.com/a-/AOh14GgE_0R3JYD7H08Dd3rM0e6f4ZL8IEMhYBff3ZMWDw=s64",
      "userId": "05739881995952616942"
     },
     "user_tz": 480
    },
    "id": "nJMikpQik3-M",
    "outputId": "d9391e7e-5b0f-409d-f72d-37c0f1fbb2e0"
   },
   "outputs": [],
   "source": [
    "aap = asthma_states.query(\n",
    "        'Question == \"Current asthma prevalence among adults aged >= 18 years\"' + \n",
    "        '& StratificationCategory1 == \"Overall\"' +\n",
    "        '& DataValueType == \"Age-adjusted Prevalence\"' # Asthma prevalence is expressed as a percentage of the overall population\n",
    "    )[['YearStart', 'State Code', 'Division', 'DataValue']].rename(\n",
    "        columns={'YearStart': 'year',\n",
    "                 'State Code': 'state',\n",
    "                 'Division': 'div',\n",
    "                 'DataValue': 'aap'}\n",
    "    ).reset_index().drop(columns='index')\n",
    "aap"
   ]
  },
  {
   "cell_type": "code",
   "execution_count": null,
   "metadata": {
    "executionInfo": {
     "elapsed": 23,
     "status": "ok",
     "timestamp": 1638580662702,
     "user": {
      "displayName": "Brighten Drake",
      "photoUrl": "https://lh3.googleusercontent.com/a-/AOh14GgE_0R3JYD7H08Dd3rM0e6f4ZL8IEMhYBff3ZMWDw=s64",
      "userId": "05739881995952616942"
     },
     "user_tz": 480
    },
    "id": "fwcMHUagk4Cy"
   },
   "outputs": [],
   "source": [
    "aap['aap'].isna().sum()\n",
    "aap = aap.dropna()\n"
   ]
  },
  {
   "cell_type": "code",
   "execution_count": null,
   "metadata": {
    "executionInfo": {
     "elapsed": 24,
     "status": "ok",
     "timestamp": 1638580662704,
     "user": {
      "displayName": "Brighten Drake",
      "photoUrl": "https://lh3.googleusercontent.com/a-/AOh14GgE_0R3JYD7H08Dd3rM0e6f4ZL8IEMhYBff3ZMWDw=s64",
      "userId": "05739881995952616942"
     },
     "user_tz": 480
    },
    "id": "4pXAZHTllJol"
   },
   "outputs": [],
   "source": []
  },
  {
   "cell_type": "markdown",
   "metadata": {
    "id": "QOY7GNQvvaLB"
   },
   "source": [
    "If we want to run t-test, we need to be sure that the aap scores are approximately normally distrubuted for each region.\n",
    "\n",
    "---\n",
    "\n"
   ]
  },
  {
   "cell_type": "code",
   "execution_count": null,
   "metadata": {
    "colab": {
     "base_uri": "https://localhost:8080/",
     "height": 1000
    },
    "executionInfo": {
     "elapsed": 2953,
     "status": "ok",
     "timestamp": 1638580665634,
     "user": {
      "displayName": "Brighten Drake",
      "photoUrl": "https://lh3.googleusercontent.com/a-/AOh14GgE_0R3JYD7H08Dd3rM0e6f4ZL8IEMhYBff3ZMWDw=s64",
      "userId": "05739881995952616942"
     },
     "user_tz": 480
    },
    "id": "yCyvUalYvpz0",
    "outputId": "a8a99717-e859-40ad-a940-ea504b4aa8f7"
   },
   "outputs": [],
   "source": [
    "for div in aap[\"div\"].value_counts().index:\n",
    "  plt.figure(div)\n",
    "  plt.hist(aap[aap[\"div\"]==div][\"aap\"], density= 1, color = 'c');\n",
    "  plt.xlabel(\"aap dist\")\n",
    " # plt.ylabel(\"density\")\n",
    "  plt.title(div);"
   ]
  },
  {
   "cell_type": "markdown",
   "metadata": {
    "id": "yECsUIw_wcDZ"
   },
   "source": [
    " those are some relatively normal looking distributions that do not conation obvious outliers, we'll do QQ-plots to be certain"
   ]
  },
  {
   "cell_type": "code",
   "execution_count": null,
   "metadata": {
    "colab": {
     "base_uri": "https://localhost:8080/",
     "height": 1000
    },
    "executionInfo": {
     "elapsed": 3225,
     "status": "ok",
     "timestamp": 1638580668852,
     "user": {
      "displayName": "Brighten Drake",
      "photoUrl": "https://lh3.googleusercontent.com/a-/AOh14GgE_0R3JYD7H08Dd3rM0e6f4ZL8IEMhYBff3ZMWDw=s64",
      "userId": "05739881995952616942"
     },
     "user_tz": 480
    },
    "id": "5kmwDw8hwbX_",
    "outputId": "ac31d5d3-3af6-4bde-9344-ecef53c68b33"
   },
   "outputs": [],
   "source": [
    "import statsmodels.api as sm\n",
    "import pylab as py\n",
    "for div in aap[\"div\"].value_counts().index:\n",
    "  plt.figure(div)\n",
    "  #plt.hist(, density= 1, color = 'c');\n",
    "  sm.qqplot(aap[aap[\"div\"]==div][\"aap\"], line = \"45\", fit = True);\n",
    "  plt.xlabel(\"aap dist\")\n",
    " # plt.ylabel(\"density\")\n",
    "  plt.title(div);"
   ]
  },
  {
   "cell_type": "code",
   "execution_count": null,
   "metadata": {
    "colab": {
     "base_uri": "https://localhost:8080/"
    },
    "executionInfo": {
     "elapsed": 22,
     "status": "ok",
     "timestamp": 1638580668854,
     "user": {
      "displayName": "Brighten Drake",
      "photoUrl": "https://lh3.googleusercontent.com/a-/AOh14GgE_0R3JYD7H08Dd3rM0e6f4ZL8IEMhYBff3ZMWDw=s64",
      "userId": "05739881995952616942"
     },
     "user_tz": 480
    },
    "id": "VV7p7A_4lJrR",
    "outputId": "994ac749-5a3f-478c-aad9-fcfa39b0dcb1"
   },
   "outputs": [],
   "source": [
    "aap[\"div\"].value_counts().index\n"
   ]
  },
  {
   "cell_type": "code",
   "execution_count": null,
   "metadata": {
    "colab": {
     "base_uri": "https://localhost:8080/",
     "height": 363
    },
    "executionInfo": {
     "elapsed": 20,
     "status": "ok",
     "timestamp": 1638580669128,
     "user": {
      "displayName": "Brighten Drake",
      "photoUrl": "https://lh3.googleusercontent.com/a-/AOh14GgE_0R3JYD7H08Dd3rM0e6f4ZL8IEMhYBff3ZMWDw=s64",
      "userId": "05739881995952616942"
     },
     "user_tz": 480
    },
    "id": "5xpqrnGglJuD",
    "outputId": "93f528cf-09b9-416c-e03f-f9f823091dc7"
   },
   "outputs": [],
   "source": [
    "overall_mean = np.mean(aap[\"aap\"])\n",
    "\n",
    "division_means = aap.groupby(\"div\").agg(np.mean)\n",
    "division_counts = aap.groupby(\"div\").count()\n",
    "\n",
    "division_means[\"count\"] = division_counts[\"aap\"]\n",
    "division_means"
   ]
  },
  {
   "cell_type": "code",
   "execution_count": null,
   "metadata": {
    "colab": {
     "base_uri": "https://localhost:8080/",
     "height": 1000
    },
    "executionInfo": {
     "elapsed": 3520,
     "status": "ok",
     "timestamp": 1638580672633,
     "user": {
      "displayName": "Brighten Drake",
      "photoUrl": "https://lh3.googleusercontent.com/a-/AOh14GgE_0R3JYD7H08Dd3rM0e6f4ZL8IEMhYBff3ZMWDw=s64",
      "userId": "05739881995952616942"
     },
     "user_tz": 480
    },
    "id": "6-oH3ovGlJw-",
    "outputId": "08b99a5a-892f-407e-a1e0-6d3059c48101"
   },
   "outputs": [],
   "source": [
    "\n",
    "prevs = np.array(aap[\"aap\"])\n",
    "p_values_above = []\n",
    "p_values_below = []\n",
    "#We want to do some bootstrapping for every division\n",
    "for div in aap[\"div\"].value_counts().index:\n",
    "  size = division_means.loc[div,\"count\"]\n",
    "  actual_mean = division_means.loc[div,\"aap\"]\n",
    "  boot_means = []\n",
    "  #bootstrap step\n",
    "  for _ in np.arange(200):\n",
    "    boot = np.random.choice(prevs, replace = True, size = size )\n",
    "    boot_means.append(np.mean(boot))\n",
    "\n",
    "  #save the p-values\n",
    "\n",
    "  #suppose null-the given region does not have more asthma prevelence than the general populace\n",
    "  pval_above = sum(boot_means>actual_mean)/200\n",
    "  p_values_above.append(pval_above)\n",
    "\n",
    "  #suppose null-the given region does not have lower asthma prevelence than the general populace\n",
    "  pval_below = sum(boot_means<actual_mean)/200\n",
    "  p_values_below.append(pval_below)\n",
    "\n",
    "  #plot our findings\n",
    "  plt.figure(div)\n",
    "  plt.hist(boot_means, density= 1, color = 'c');\n",
    "  plt.xlabel(\"bootstrapped means\")\n",
    "  plt.ylabel(\"density\")\n",
    "  plt.title(div);\n",
    "  plt.axvline(actual_mean, color=\"crimson\");\n",
    "  plt.savefig(div)"
   ]
  },
  {
   "cell_type": "code",
   "execution_count": null,
   "metadata": {
    "executionInfo": {
     "elapsed": 58,
     "status": "ok",
     "timestamp": 1638580672636,
     "user": {
      "displayName": "Brighten Drake",
      "photoUrl": "https://lh3.googleusercontent.com/a-/AOh14GgE_0R3JYD7H08Dd3rM0e6f4ZL8IEMhYBff3ZMWDw=s64",
      "userId": "05739881995952616942"
     },
     "user_tz": 480
    },
    "id": "6zmM1SFUlUKv"
   },
   "outputs": [],
   "source": [
    "pval_df = pd.DataFrame(aap[\"div\"].value_counts().index)\n",
    "\n",
    "pval_df[\"p_vals_above\"] = p_values_above\n",
    "pval_df[\"p_vals_below\"] = p_values_below"
   ]
  },
  {
   "cell_type": "code",
   "execution_count": null,
   "metadata": {
    "colab": {
     "base_uri": "https://localhost:8080/",
     "height": 331
    },
    "executionInfo": {
     "elapsed": 49,
     "status": "ok",
     "timestamp": 1638580672638,
     "user": {
      "displayName": "Brighten Drake",
      "photoUrl": "https://lh3.googleusercontent.com/a-/AOh14GgE_0R3JYD7H08Dd3rM0e6f4ZL8IEMhYBff3ZMWDw=s64",
      "userId": "05739881995952616942"
     },
     "user_tz": 480
    },
    "id": "T9AM5S5zlUNY",
    "outputId": "e0dbf993-d3d7-402c-9bbe-b5cee8232b73"
   },
   "outputs": [],
   "source": [
    "pval_df"
   ]
  },
  {
   "cell_type": "code",
   "execution_count": null,
   "metadata": {
    "executionInfo": {
     "elapsed": 42,
     "status": "ok",
     "timestamp": 1638580672639,
     "user": {
      "displayName": "Brighten Drake",
      "photoUrl": "https://lh3.googleusercontent.com/a-/AOh14GgE_0R3JYD7H08Dd3rM0e6f4ZL8IEMhYBff3ZMWDw=s64",
      "userId": "05739881995952616942"
     },
     "user_tz": 480
    },
    "id": "nlsiqk2_lUP_"
   },
   "outputs": [],
   "source": [
    "#TODO -- Bonferroni or B-H for Group-wise error rates\n",
    "#borrowed from lab01 **B-H requires null p-vals to be indep\n",
    "\n",
    "\n",
    "alpha = 0.05\n",
    "def benjamini_hochberg(p_values, alpha):\n",
    "    \"\"\"\n",
    "    Returns decisions on p-values using Benjamini-Hochberg.\n",
    "    \n",
    "    Inputs:\n",
    "        p_values: array of p-values\n",
    "        alpha: desired FDR (FDR = E[# false positives / # positives])\n",
    "    \n",
    "    Returns:\n",
    "        decisions: binary array of same length as p-values, where `decisions[i]` is 1\n",
    "        if `p_values[i]` is deemed significant, and 0 otherwise\n",
    "    \"\"\"\n",
    "    n = len(p_values)\n",
    "    K = np.arange(n)\n",
    "    p_values_copy = p_values.copy()\n",
    "    p_values_copy.sort()\n",
    "    \n",
    "    opt_p = 0\n",
    "    \n",
    "    for k in K:\n",
    "        if p_values_copy[k] <= [(k+1)*alpha/n]:\n",
    "            \n",
    "            opt_p = p_values_copy[k]\n",
    "   \n",
    "\n",
    "    decisions = p_values <= opt_p\n",
    "    return decisions\n",
    "\n",
    "above_decisions = benjamini_hochberg(p_values_above, alpha)\n",
    "below_decisions = benjamini_hochberg(p_values_below, alpha)\n",
    "\n",
    "pval_df[\"B-H reject null(is above)\"] = above_decisions\n",
    "pval_df[\"B-H reject null(is below)\"] = below_decisions\n"
   ]
  },
  {
   "cell_type": "code",
   "execution_count": null,
   "metadata": {
    "executionInfo": {
     "elapsed": 38,
     "status": "ok",
     "timestamp": 1638580672641,
     "user": {
      "displayName": "Brighten Drake",
      "photoUrl": "https://lh3.googleusercontent.com/a-/AOh14GgE_0R3JYD7H08Dd3rM0e6f4ZL8IEMhYBff3ZMWDw=s64",
      "userId": "05739881995952616942"
     },
     "user_tz": 480
    },
    "id": "EyDgDhZWhKNR"
   },
   "outputs": [],
   "source": [
    "#Bonferroni also from lab01\n",
    "def bonferroni(p_values, alpha_total):\n",
    "    \"\"\"\n",
    "    Returns decisions on p-values using the Bonferroni correction.\n",
    "    \n",
    "    Inputs:\n",
    "        p_values: array of p-values\n",
    "        alpha_total: desired family-wise error rate (FWER = P(at least one false discovery))\n",
    "    \n",
    "    Returns:\n",
    "        decisions: binary array of same length as p-values, where `decisions[i]` is 1\n",
    "        if `p_values[i]` is deemed significant, and 0 otherwise\n",
    "    \"\"\"\n",
    "    m = len(p_values)\n",
    "    decisions = p_values <= (alpha_total/m)\n",
    "    return decisions\n",
    "\n",
    "    above_decisions = bonferroni(np.array(p_values_above), alpha)\n",
    "below_decisions = bonferroni(np.array(p_values_below), alpha)\n",
    "\n",
    "pval_df[\"Bonferroni reject null(is above)\"] = above_decisions\n",
    "pval_df[\"Bonferroni reject null(is below)\"] = below_decisions"
   ]
  },
  {
   "cell_type": "code",
   "execution_count": null,
   "metadata": {
    "colab": {
     "base_uri": "https://localhost:8080/",
     "height": 331
    },
    "executionInfo": {
     "elapsed": 38,
     "status": "ok",
     "timestamp": 1638580672643,
     "user": {
      "displayName": "Brighten Drake",
      "photoUrl": "https://lh3.googleusercontent.com/a-/AOh14GgE_0R3JYD7H08Dd3rM0e6f4ZL8IEMhYBff3ZMWDw=s64",
      "userId": "05739881995952616942"
     },
     "user_tz": 480
    },
    "id": "EeKPSaIs0kka",
    "outputId": "182d3941-28b7-42e2-965a-422ec938d2cb"
   },
   "outputs": [],
   "source": [
    "pval_df"
   ]
  },
  {
   "cell_type": "code",
   "execution_count": null,
   "metadata": {
    "executionInfo": {
     "elapsed": 37,
     "status": "ok",
     "timestamp": 1638580672644,
     "user": {
      "displayName": "Brighten Drake",
      "photoUrl": "https://lh3.googleusercontent.com/a-/AOh14GgE_0R3JYD7H08Dd3rM0e6f4ZL8IEMhYBff3ZMWDw=s64",
      "userId": "05739881995952616942"
     },
     "user_tz": 480
    },
    "id": "XOdW0EUM1ig1"
   },
   "outputs": [],
   "source": []
  }
 ],
 "metadata": {
  "colab": {
   "authorship_tag": "ABX9TyNiEzDr7CV7/6mOcdt279dq",
   "collapsed_sections": [],
   "name": "Data102_HypTesting.ipynb",
   "provenance": []
  },
  "kernelspec": {
   "display_name": "Python 3",
   "language": "python",
   "name": "python3"
  },
  "language_info": {
   "codemirror_mode": {
    "name": "ipython",
    "version": 3
   },
   "file_extension": ".py",
   "mimetype": "text/x-python",
   "name": "python",
   "nbconvert_exporter": "python",
   "pygments_lexer": "ipython3",
   "version": "3.8.8"
  }
 },
 "nbformat": 4,
 "nbformat_minor": 1
}